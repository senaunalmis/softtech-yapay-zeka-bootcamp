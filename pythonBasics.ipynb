{
 "cells": [
  {
   "cell_type": "code",
   "execution_count": null,
   "metadata": {},
   "outputs": [
    {
     "name": "stdout",
     "output_type": "stream",
     "text": []
    }
   ],
   "source": [
    "# bu benim ilk comment im\n",
    "# degisken - variable\n",
    "# integer(tamsayi) degisken- variable\n",
    "tamsayi_degiskeni = 10 # 10 tamsayisi icin bir degisken tanimladim, bu degiskenin ismi tamsayi_degiskeni\n",
    "tamsayi_degiskeni2 = 15\n",
    "print(tamsayi_degiskeni)\n",
    "print(tamsayi_degiskeni2)"
   ]
  },
  {
   "cell_type": "markdown",
   "metadata": {},
   "source": [
    "**Kesirli Sayi**\n",
    "\n"
   ]
  },
  {
   "cell_type": "code",
   "execution_count": null,
   "metadata": {},
   "outputs": [
    {
     "name": "stdout",
     "output_type": "stream",
     "text": [
      "10.5\n"
     ]
    }
   ],
   "source": [
    "# kesirli sayi - float\n",
    "kesirlisayi_degisken = 10.5\n",
    "print(kesirlisayi_degisken)"
   ]
  },
  {
   "cell_type": "markdown",
   "metadata": {},
   "source": [
    "4 işlem özelliği"
   ]
  },
  {
   "cell_type": "code",
   "execution_count": null,
   "metadata": {},
   "outputs": [
    {
     "name": "stdout",
     "output_type": "stream",
     "text": [
      "25\n",
      "150\n",
      "-5\n",
      "0.6666666666666666\n"
     ]
    }
   ],
   "source": [
    "toplam = tamsayi_degiskeni + tamsayi_degiskeni2\n",
    "carpma = tamsayi_degiskeni * tamsayi_degiskeni2\n",
    "cikarma = tamsayi_degiskeni - tamsayi_degiskeni2\n",
    "bolme = tamsayi_degiskeni / tamsayi_degiskeni2\n",
    "print(toplam)\n",
    "print(carpma)\n",
    "print(cikarma)\n",
    "print(bolme)"
   ]
  },
  {
   "cell_type": "code",
   "execution_count": null,
   "metadata": {},
   "outputs": [
    {
     "name": "stdout",
     "output_type": "stream",
     "text": [
      "hello world\n"
     ]
    }
   ],
   "source": [
    "metin = \"hello world\" # string - metin\n",
    "print(metin)"
   ]
  },
  {
   "cell_type": "code",
   "execution_count": null,
   "metadata": {},
   "outputs": [
    {
     "data": {
      "text/plain": [
       "str"
      ]
     },
     "metadata": {},
     "output_type": "display_data"
    }
   ],
   "source": [
    "type(metin)"
   ]
  },
  {
   "cell_type": "code",
   "execution_count": null,
   "metadata": {},
   "outputs": [
    {
     "data": {
      "application/vnd.google.colaboratory.intrinsic+json": {
       "type": "string"
      },
      "text/plain": [
       "'merhaba dunya'"
      ]
     },
     "metadata": {},
     "output_type": "display_data"
    }
   ],
   "source": [
    "metin1 = \"merhaba\"\n",
    "bosluk = \" \"\n",
    "metin2 = \"dunya\"\n",
    "metin1 + bosluk + metin2"
   ]
  },
  {
   "cell_type": "code",
   "execution_count": null,
   "metadata": {},
   "outputs": [
    {
     "name": "stdout",
     "output_type": "stream",
     "text": [
      "elma: 10 tl, armut: 20 tl\n",
      "elma: 10 tl, armut: 20 tl\n"
     ]
    }
   ],
   "source": [
    "# f string\n",
    "# elma: 10 tl\n",
    "# armut: 20 tl\n",
    "elma_degisken = 10\n",
    "armut_degisken = 20\n",
    "print(f\"elma: {elma_degisken} tl, armut: {armut_degisken} tl\")\n",
    "print(\"elma: {} tl, armut: {} tl\".format(elma_degisken, armut_degisken))\n",
    "# elma: {elma_degisken} tl, armut: {armut_degisken} tl\n",
    "# elma: 10 tl, armut: 20 tl"
   ]
  },
  {
   "cell_type": "markdown",
   "metadata": {},
   "source": [
    "Python Syntax"
   ]
  },
  {
   "cell_type": "code",
   "execution_count": null,
   "metadata": {},
   "outputs": [
    {
     "name": "stdout",
     "output_type": "stream",
     "text": [
      "6\n",
      "7\n"
     ]
    }
   ],
   "source": [
    "temel = 6\n",
    "TEMEL = 7\n",
    "print(temel)\n",
    "print(TEMEL)"
   ]
  },
  {
   "cell_type": "code",
   "execution_count": null,
   "metadata": {},
   "outputs": [
    {
     "data": {
      "application/vnd.google.colaboratory.intrinsic+json": {
       "type": "string"
      },
      "text/plain": [
       "'\\n istedigimiz her seyi yazariz kimsade bize karisamaz\\n'"
      ]
     },
     "metadata": {},
     "output_type": "display_data"
    }
   ],
   "source": [
    "# COMMENT\n",
    "\"\"\"\n",
    " istedigimiz her seyi yazariz kimsade bize karisamaz\n",
    "\"\"\""
   ]
  },
  {
   "cell_type": "code",
   "execution_count": null,
   "metadata": {},
   "outputs": [
    {
     "name": "stdout",
     "output_type": "stream",
     "text": [
      "5\n"
     ]
    }
   ],
   "source": [
    "print(5) # print = build-in function"
   ]
  },
  {
   "cell_type": "code",
   "execution_count": null,
   "metadata": {},
   "outputs": [],
   "source": [
    "# print = 10"
   ]
  },
  {
   "cell_type": "code",
   "execution_count": null,
   "metadata": {},
   "outputs": [
    {
     "name": "stdout",
     "output_type": "stream",
     "text": [
      "5\n"
     ]
    }
   ],
   "source": [
    "print(5)"
   ]
  },
  {
   "cell_type": "markdown",
   "metadata": {},
   "source": [
    "**Fonksiyonlar**"
   ]
  },
  {
   "cell_type": "markdown",
   "metadata": {},
   "source": [
    "\n",
    "*   Kullanıcı Tanımlı Fonksiyonlar (User Defined Function)\n",
    "\n",
    "\n",
    "\n"
   ]
  },
  {
   "cell_type": "code",
   "execution_count": null,
   "metadata": {},
   "outputs": [
    {
     "name": "stdout",
     "output_type": "stream",
     "text": [
      "28.26\n"
     ]
    }
   ],
   "source": [
    "# dairenin alanını hesaplamak pi*r^2\n",
    "pi = 3.14\n",
    "daire_yaricapi = 3\n",
    "daire_alani = pi*(daire_yaricapi**2)\n",
    "print(daire_alani)"
   ]
  },
  {
   "cell_type": "code",
   "execution_count": null,
   "metadata": {},
   "outputs": [],
   "source": [
    "def daireAlaniHesapla(daire_yaricapi = 5): # func ismi yazarken islevi belirtmek lazim\n",
    "  \"\"\"\n",
    "    Description: Bu fonksiyon daire alanini hesaplar.\n",
    "    input parameters: dairenin yaricapi (daire_yaricapi)\n",
    "    output: dairenin alani (daire_alani)\n",
    "  \"\"\"\n",
    "  PI = 3.14\n",
    "  daire_alani = PI*(daire_yaricapi**2)\n",
    "  print(f\"Daire Alani: {daire_alani}\")\n",
    "  return daire_alani"
   ]
  },
  {
   "cell_type": "code",
   "execution_count": null,
   "metadata": {},
   "outputs": [
    {
     "name": "stdout",
     "output_type": "stream",
     "text": [
      "Daire Alani: 78.5\n"
     ]
    }
   ],
   "source": [
    "daireAlaniHesapla()"
   ]
  },
  {
   "cell_type": "code",
   "execution_count": null,
   "metadata": {},
   "outputs": [
    {
     "name": "stdout",
     "output_type": "stream",
     "text": [
      "Bir daire yari capi girin: 10\n",
      "girilen deger: 10 ve bu degerin type: <class 'str'>\n",
      "<class 'int'>\n",
      "Daire Alani: 314.0\n"
     ]
    }
   ],
   "source": [
    "user_input  = input(\"Bir daire yari capi girin: \")\n",
    "print(f\"girilen deger: {user_input} ve bu degerin type: {type(user_input)}\")\n",
    "user_input_int = int(user_input)\n",
    "print(f\"{type(user_input_int)}\")\n",
    "daireAlaniHesapla(user_input_int)"
   ]
  },
  {
   "cell_type": "code",
   "execution_count": null,
   "metadata": {},
   "outputs": [
    {
     "name": "stdout",
     "output_type": "stream",
     "text": [
      "Daire Alani: 78.5\n",
      "Daire Alani: 28.26\n",
      "106.76\n"
     ]
    }
   ],
   "source": [
    "daire_alani_hesaplanan1 = daireAlaniHesapla(5)\n",
    "daire_alani_hesaplanan2 = daireAlaniHesapla(3)\n",
    "print(daire_alani_hesaplanan1 + daire_alani_hesaplanan2)"
   ]
  },
  {
   "cell_type": "code",
   "execution_count": null,
   "metadata": {},
   "outputs": [],
   "source": [
    "# daire cevresi hesaplama: 2*pi*r\n",
    "def daireCevresiHesapla(r):\n",
    "  PI = 3.14\n",
    "  daire_cevresi = 2*PI*r\n",
    "  return daire_cevresi"
   ]
  },
  {
   "cell_type": "code",
   "execution_count": null,
   "metadata": {},
   "outputs": [
    {
     "name": "stdout",
     "output_type": "stream",
     "text": [
      "hesapladigimiz daire ccevresi: 31.400000000000002\n"
     ]
    }
   ],
   "source": [
    "daire_cevresi_hesaplanan = daireCevresiHesapla(5)\n",
    "print(f\"hesapladigimiz daire ccevresi: {daire_cevresi_hesaplanan}\")"
   ]
  },
  {
   "cell_type": "code",
   "execution_count": null,
   "metadata": {},
   "outputs": [],
   "source": []
  },
  {
   "cell_type": "markdown",
   "metadata": {},
   "source": [
    "Veri tipleri: Liste"
   ]
  },
  {
   "cell_type": "code",
   "execution_count": null,
   "metadata": {},
   "outputs": [
    {
     "data": {
      "text/plain": [
       "['sut', 'yumurta', 'ekmek']"
      ]
     },
     "metadata": {},
     "output_type": "display_data"
    }
   ],
   "source": [
    "liste = [\"sut\", \"yumurta\", \"ekmek\"]\n",
    "liste"
   ]
  },
  {
   "cell_type": "code",
   "execution_count": null,
   "metadata": {},
   "outputs": [
    {
     "name": "stdout",
     "output_type": "stream",
     "text": [
      "[10, 20, 30]\n"
     ]
    }
   ],
   "source": [
    "liste_fiyat = [10, 20, 30]\n",
    "print(liste_fiyat)"
   ]
  },
  {
   "cell_type": "code",
   "execution_count": null,
   "metadata": {},
   "outputs": [
    {
     "data": {
      "text/plain": [
       "list"
      ]
     },
     "metadata": {},
     "output_type": "display_data"
    }
   ],
   "source": [
    "type(liste_fiyat)"
   ]
  },
  {
   "cell_type": "code",
   "execution_count": null,
   "metadata": {},
   "outputs": [
    {
     "name": "stdout",
     "output_type": "stream",
     "text": [
      "['pazartesi', 'sali', 'carsamba', 'persembe', 'cuma', 'cumartesi', 'pazar']\n"
     ]
    }
   ],
   "source": [
    "hafta_liste = [\"pazartesi\", \"sali\", \"carsamba\", \"persembe\", \"cuma\", \"cumartesi\", \"pazar\"]\n",
    "print(hafta_liste)"
   ]
  },
  {
   "cell_type": "code",
   "execution_count": null,
   "metadata": {},
   "outputs": [
    {
     "data": {
      "application/vnd.google.colaboratory.intrinsic+json": {
       "type": "string"
      },
      "text/plain": [
       "'pazar'"
      ]
     },
     "metadata": {},
     "output_type": "display_data"
    }
   ],
   "source": [
    "# indeksleme\n",
    "hafta_liste[len(hafta_liste)-1] # listenin 0'inci indeksi"
   ]
  },
  {
   "cell_type": "code",
   "execution_count": null,
   "metadata": {},
   "outputs": [
    {
     "data": {
      "application/vnd.google.colaboratory.intrinsic+json": {
       "type": "string"
      },
      "text/plain": [
       "'pazar'"
      ]
     },
     "metadata": {},
     "output_type": "display_data"
    }
   ],
   "source": [
    "hafta_liste[-1]"
   ]
  },
  {
   "cell_type": "code",
   "execution_count": null,
   "metadata": {},
   "outputs": [],
   "source": [
    "hafta_liste = [\"pazartesi\", \"sali\", \"carsamba\", \"persembe\", \"cuma\", \"cumartesi\", \"pazar\"]"
   ]
  },
  {
   "cell_type": "code",
   "execution_count": null,
   "metadata": {},
   "outputs": [
    {
     "data": {
      "text/plain": [
       "['pazartesi', 'sali', 'carsamba', 'persembe']"
      ]
     },
     "metadata": {},
     "output_type": "display_data"
    }
   ],
   "source": [
    "# \"pazartesi\", \"sali\", \"carsamba\", \"persembe\"\n",
    "hafta_liste[0:4]"
   ]
  },
  {
   "cell_type": "markdown",
   "metadata": {},
   "source": []
  },
  {
   "cell_type": "code",
   "execution_count": null,
   "metadata": {},
   "outputs": [
    {
     "name": "stdout",
     "output_type": "stream",
     "text": [
      "['persembe', 'cuma', 'cumartesi', 'pazar']\n",
      "['persembe', 'cuma', 'cumartesi', 'pazar']\n",
      "['persembe', 'cuma', 'cumartesi', 'pazar']\n"
     ]
    }
   ],
   "source": [
    "# \"persembe\", \"cuma\", \"cumartesi\", \"pazar\"\n",
    "print(hafta_liste[3:])\n",
    "print(hafta_liste[3:7])\n",
    "print(hafta_liste[-4:])"
   ]
  },
  {
   "cell_type": "code",
   "execution_count": null,
   "metadata": {},
   "outputs": [
    {
     "data": {
      "text/plain": [
       "[1, 3, 2, 4, 6, 5]"
      ]
     },
     "metadata": {},
     "output_type": "display_data"
    }
   ],
   "source": [
    "#\n",
    "sayi_listesi = [1,3,2,4,6,5]\n",
    "sayi_listesi"
   ]
  },
  {
   "cell_type": "code",
   "execution_count": null,
   "metadata": {},
   "outputs": [
    {
     "data": {
      "text/plain": [
       "[1, 3, 2, 4, 6, 5, 7, 6]"
      ]
     },
     "metadata": {},
     "output_type": "display_data"
    }
   ],
   "source": [
    "sayi_listesi.append(6) # listeye eleman ekleme\n",
    "sayi_listesi"
   ]
  },
  {
   "cell_type": "code",
   "execution_count": null,
   "metadata": {},
   "outputs": [
    {
     "data": {
      "text/plain": [
       "[1, 3, 2, 4, 5, 7]"
      ]
     },
     "metadata": {},
     "output_type": "display_data"
    }
   ],
   "source": [
    "sayi_listesi.remove(6) # listeden eleman cikarma\n",
    "sayi_listesi"
   ]
  },
  {
   "cell_type": "code",
   "execution_count": null,
   "metadata": {},
   "outputs": [
    {
     "data": {
      "text/plain": [
       "[7, 5, 4, 2, 3, 1]"
      ]
     },
     "metadata": {},
     "output_type": "display_data"
    }
   ],
   "source": [
    "sayi_listesi.reverse() # listeyi ters cevirme\n",
    "sayi_listesi"
   ]
  },
  {
   "cell_type": "code",
   "execution_count": null,
   "metadata": {},
   "outputs": [
    {
     "data": {
      "text/plain": [
       "[7, 5, 4, 3, 2, 1]"
      ]
     },
     "metadata": {},
     "output_type": "display_data"
    }
   ],
   "source": [
    "sayi_listesi.sort()  # kucukten buyuge siralama\n",
    "# sayi_listesi.reverse()\n",
    "sayi_listesi"
   ]
  },
  {
   "cell_type": "code",
   "execution_count": null,
   "metadata": {},
   "outputs": [],
   "source": [
    "liste_deneme = [1,3,2]\n",
    "liste_deneme_sorted = sorted(liste_deneme)  # kucukten buyuge siralama"
   ]
  },
  {
   "cell_type": "code",
   "execution_count": null,
   "metadata": {},
   "outputs": [
    {
     "name": "stdout",
     "output_type": "stream",
     "text": [
      "[1, 3, 2]\n",
      "[1, 2, 3]\n"
     ]
    }
   ],
   "source": [
    "print(liste_deneme)\n",
    "print(liste_deneme_sorted)"
   ]
  },
  {
   "cell_type": "markdown",
   "metadata": {},
   "source": [
    "Veri Tipleri: Tuple"
   ]
  },
  {
   "cell_type": "code",
   "execution_count": null,
   "metadata": {},
   "outputs": [
    {
     "name": "stdout",
     "output_type": "stream",
     "text": [
      "5\n",
      "2\n",
      "(2, 3, 3, 4, 5, 6)\n",
      "2\n"
     ]
    }
   ],
   "source": [
    "tuple_sayi = (1,2,3,3,4,5,6)\n",
    "print(tuple_sayi[-2])\n",
    "print(tuple_sayi[1])\n",
    "print(tuple_sayi[1:])\n",
    "print(tuple_sayi.count(3)) # tuple icerisinde bulunan istedigimiz elemani sayma"
   ]
  },
  {
   "cell_type": "markdown",
   "metadata": {},
   "source": [
    "Veri tipleri: Dictionary\n",
    "\n",
    "*   anahtar-deger: key-value pair\n",
    "\n"
   ]
  },
  {
   "cell_type": "code",
   "execution_count": null,
   "metadata": {},
   "outputs": [
    {
     "data": {
      "text/plain": [
       "{'anahtar': 10, 'key': 'ankara'}"
      ]
     },
     "metadata": {},
     "output_type": "display_data"
    }
   ],
   "source": [
    "dictionary = {\"anahtar\": 10,\n",
    "              \"key\": \"ankara\"}\n",
    "dictionary"
   ]
  },
  {
   "cell_type": "code",
   "execution_count": null,
   "metadata": {},
   "outputs": [
    {
     "data": {
      "text/plain": [
       "{'istanbul': 34, 'izmir': 35, 'Konya': 42}"
      ]
     },
     "metadata": {},
     "output_type": "display_data"
    }
   ],
   "source": [
    "sehirler_plakalar = {\"istanbul\":34, \"izmir\":35, \"Konya\":42}\n",
    "sehirler_plakalar"
   ]
  },
  {
   "cell_type": "code",
   "execution_count": null,
   "metadata": {},
   "outputs": [
    {
     "data": {
      "text/plain": [
       "dict_keys(['istanbul', 'izmir', 'Konya'])"
      ]
     },
     "metadata": {},
     "output_type": "display_data"
    }
   ],
   "source": [
    "sehirler_plakalar.keys()"
   ]
  },
  {
   "cell_type": "code",
   "execution_count": null,
   "metadata": {},
   "outputs": [
    {
     "data": {
      "text/plain": [
       "dict_values([34, 35, 42])"
      ]
     },
     "metadata": {},
     "output_type": "display_data"
    }
   ],
   "source": [
    "sehirler_plakalar.values()"
   ]
  },
  {
   "cell_type": "code",
   "execution_count": null,
   "metadata": {},
   "outputs": [
    {
     "data": {
      "text/plain": [
       "35"
      ]
     },
     "metadata": {},
     "output_type": "display_data"
    }
   ],
   "source": [
    "sehirler_plakalar[\"izmir\"]"
   ]
  },
  {
   "cell_type": "code",
   "execution_count": null,
   "metadata": {},
   "outputs": [],
   "source": [
    "\"\"\"\n",
    "parameters = {\"weights\":[],\n",
    "              \"bias\":[],\n",
    "              \"learning_rate\": 0,\n",
    "              \"model_name\": \"model1\"}\n",
    "list_parameters = []\n",
    "list_parameters.append(parameters)\n",
    "\"\"\""
   ]
  },
  {
   "cell_type": "markdown",
   "metadata": {},
   "source": [
    "Veri tipleri dönüşümleri"
   ]
  },
  {
   "cell_type": "code",
   "execution_count": null,
   "metadata": {},
   "outputs": [],
   "source": [
    "metin = \"16\"\n",
    "kesirlisayi = 10.0\n",
    "tamsayi = 10\n",
    "\n",
    "# int tamsayi = 10\n",
    "# float kesirlisayi = 10"
   ]
  },
  {
   "cell_type": "code",
   "execution_count": null,
   "metadata": {},
   "outputs": [
    {
     "name": "stdout",
     "output_type": "stream",
     "text": [
      "16\n",
      "<class 'int'>\n"
     ]
    }
   ],
   "source": [
    "# str -> int\n",
    "metin_int = int(metin)\n",
    "print(metin_int)\n",
    "print(type(metin_int))"
   ]
  },
  {
   "cell_type": "code",
   "execution_count": null,
   "metadata": {},
   "outputs": [
    {
     "name": "stdout",
     "output_type": "stream",
     "text": [
      "10\n",
      "<class 'int'>\n"
     ]
    }
   ],
   "source": [
    "# float -> int\n",
    "kesirlisayi_int = int(kesirlisayi)\n",
    "print(kesirlisayi_int)\n",
    "print(type(kesirlisayi_int))"
   ]
  },
  {
   "cell_type": "code",
   "execution_count": null,
   "metadata": {},
   "outputs": [
    {
     "data": {
      "application/vnd.google.colaboratory.intrinsic+json": {
       "type": "string"
      },
      "text/plain": [
       "'10.5'"
      ]
     },
     "metadata": {},
     "output_type": "display_data"
    }
   ],
   "source": [
    "# float -> str\n",
    "kesirlisayi_str = str(kesirlisayi)\n",
    "kesirlisayi_str"
   ]
  },
  {
   "cell_type": "code",
   "execution_count": null,
   "metadata": {},
   "outputs": [
    {
     "data": {
      "application/vnd.google.colaboratory.intrinsic+json": {
       "type": "string"
      },
      "text/plain": [
       "'10'"
      ]
     },
     "metadata": {},
     "output_type": "display_data"
    }
   ],
   "source": [
    "# int -> str\n",
    "tamsayi_str = str(tamsayi)\n",
    "tamsayi_str"
   ]
  },
  {
   "cell_type": "code",
   "execution_count": null,
   "metadata": {},
   "outputs": [
    {
     "data": {
      "text/plain": [
       "10.0"
      ]
     },
     "metadata": {},
     "output_type": "display_data"
    }
   ],
   "source": [
    "# int -> float\n",
    "tamsayi_float = float(tamsayi)\n",
    "tamsayi_float"
   ]
  },
  {
   "cell_type": "code",
   "execution_count": null,
   "metadata": {},
   "outputs": [],
   "source": []
  },
  {
   "cell_type": "markdown",
   "metadata": {},
   "source": [
    "if-else"
   ]
  },
  {
   "cell_type": "code",
   "execution_count": null,
   "metadata": {},
   "outputs": [
    {
     "name": "stdout",
     "output_type": "stream",
     "text": [
      "sayilar esit\n"
     ]
    }
   ],
   "source": [
    "# eger sayi1 kucuktur sayi2 ise print(sayi1 kucuktur sayi2)\n",
    "sayi1 = 12\n",
    "sayi2 = 22\n",
    "\n",
    "if sayi1 < sayi2: # eger True (dogru) ise if icerisine gir\n",
    "  print(f\"sayi1: {sayi1} kucuktur sayi2: {sayi2}\")\n",
    "elif sayi2 < sayi1:\n",
    "  print(f\"sayi2:{sayi2} kucuktur sayi1:{sayi1}\")\n",
    "else:\n",
    "  print(\"sayilar esit\")"
   ]
  },
  {
   "cell_type": "code",
   "execution_count": null,
   "metadata": {},
   "outputs": [
    {
     "name": "stdout",
     "output_type": "stream",
     "text": [
      "5 degeri listenin icinde\n"
     ]
    }
   ],
   "source": [
    "# problem: deger listenin icinde mi degil mi?\n",
    "liste = [1, 2, 3, 4, 5]\n",
    "deger = 5\n",
    "\n",
    "if deger in liste:\n",
    "  print(f\"{deger} degeri listenin icinde\")\n",
    "else:\n",
    "  print(f\"{deger} degeri listenin icinde degil\")"
   ]
  },
  {
   "cell_type": "code",
   "execution_count": null,
   "metadata": {},
   "outputs": [
    {
     "name": "stdout",
     "output_type": "stream",
     "text": [
      "dict_keys(['Turkiye', 'Ingiltere', 'Almanya'])\n"
     ]
    }
   ],
   "source": [
    "# problem: ulke isimleri dictionary icerisinde var mi yok mu anlamaya calismak\n",
    "dictionary = {\"Turkiye\":\"Ankara\", \"Ingiltere\":\"Londra\", \"Almanya\":\"Berlin\"}\n",
    "keys = dictionary.keys()\n",
    "print(keys)\n"
   ]
  },
  {
   "cell_type": "code",
   "execution_count": null,
   "metadata": {},
   "outputs": [
    {
     "name": "stdout",
     "output_type": "stream",
     "text": [
      "Ingiltere degeri sozlukte var\n"
     ]
    }
   ],
   "source": [
    "deger = \"Ingiltere\"\n",
    "if deger in keys:\n",
    "  print(f\"{deger} degeri sozlukte var\")\n",
    "else:\n",
    "  print(f\"{deger} degeri sozlukte yok\")"
   ]
  },
  {
   "cell_type": "code",
   "execution_count": null,
   "metadata": {},
   "outputs": [
    {
     "name": "stdout",
     "output_type": "stream",
     "text": [
      "ptase gunu listenin ikinci inkdeksinde\n"
     ]
    }
   ],
   "source": [
    "# liste = haftanin gunleri\n",
    "# eger ptesi gunu listenin icerisinde 2. indexde ise print(ptesi gunu listenin ikinci indeksinde)\n",
    "liste=[\"pazartesi\",\"sali\",\"carsamba\",\"persembe\",\"cuma\",\"cumartesi\",\"pazar\"]\n",
    "\n",
    "if \"pazartesi\"==liste[2]:\n",
    "  print(\"ptase gunu listenin ikinci inkdeksinde\")\n",
    "else:\n",
    "  print(\" değil\")"
   ]
  },
  {
   "cell_type": "markdown",
   "metadata": {},
   "source": [
    "**for loop**"
   ]
  },
  {
   "cell_type": "code",
   "execution_count": null,
   "metadata": {},
   "outputs": [
    {
     "name": "stdout",
     "output_type": "stream",
     "text": [
      "1\n",
      "2\n",
      "3\n",
      "4\n",
      "5\n",
      "6\n",
      "7\n",
      "8\n",
      "9\n",
      "10\n"
     ]
    }
   ],
   "source": [
    "for i in range(1,11): # [1,2,3,4,5,6,7,8,9,10]\n",
    "  print(i)"
   ]
  },
  {
   "cell_type": "code",
   "execution_count": null,
   "metadata": {},
   "outputs": [
    {
     "name": "stdout",
     "output_type": "stream",
     "text": [
      "1\n",
      "2\n",
      "3\n",
      "4\n"
     ]
    }
   ],
   "source": [
    "for i in [1,2,3,4]:\n",
    "  print(i)"
   ]
  },
  {
   "cell_type": "code",
   "execution_count": null,
   "metadata": {},
   "outputs": [
    {
     "name": "stdout",
     "output_type": "stream",
     "text": [
      "2\n",
      "4\n",
      "6\n",
      "8\n"
     ]
    }
   ],
   "source": [
    "for i in [1,2,3,4]:\n",
    "  print(i*2)"
   ]
  },
  {
   "cell_type": "code",
   "execution_count": null,
   "metadata": {},
   "outputs": [
    {
     "name": "stdout",
     "output_type": "stream",
     "text": [
      "pazartesi\n",
      "sali\n",
      "carsamba\n",
      "persembe\n",
      "cuma\n",
      "cumartesi\n",
      "pazar\n"
     ]
    }
   ],
   "source": [
    "liste1 = [\"pazartesi\",\"sali\",\"carsamba\",\"persembe\",\"cuma\",\"cumartesi\",\"pazar\"]\n",
    "for i in liste1:\n",
    "  print(i)"
   ]
  },
  {
   "cell_type": "code",
   "execution_count": null,
   "metadata": {},
   "outputs": [
    {
     "name": "stdout",
     "output_type": "stream",
     "text": [
      "p\n",
      "a\n",
      "z\n",
      "a\n",
      "r\n",
      "t\n",
      "e\n",
      "s\n",
      "i\n",
      " \n",
      "s\n",
      "a\n",
      "l\n",
      "i\n"
     ]
    }
   ],
   "source": [
    "for i in \"pazartesi sali\": # string = karakter dizisi\n",
    "  print(i)"
   ]
  },
  {
   "cell_type": "code",
   "execution_count": null,
   "metadata": {},
   "outputs": [
    {
     "name": "stdout",
     "output_type": "stream",
     "text": [
      "45\n",
      "45\n"
     ]
    }
   ],
   "source": [
    "liste = [1,2,3,4,5,6,7,8,9]\n",
    "\n",
    "toplam = 0\n",
    "for i in liste:\n",
    "  toplam = toplam + i\n",
    "print(toplam)\n",
    "print(sum(liste))"
   ]
  },
  {
   "cell_type": "code",
   "execution_count": null,
   "metadata": {},
   "outputs": [
    {
     "data": {
      "text/plain": [
       "['Bugün', 'Python', 'Dersimiz', 'Var.']"
      ]
     },
     "metadata": {},
     "output_type": "display_data"
    }
   ],
   "source": [
    "\"\"\"\n",
    "problem: NLP, elimizde str olarak cumle var. mesela: \"Bugün Python Dersimiz Var.\"\n",
    "[\"bugün\", \"python\", \"dersimiz\", \"var.\"]\n",
    "\"\"\"\n",
    "cumle = \"Bugün Python Dersimiz Var.\"\n",
    "liste_cumle = cumle.split()\n",
    "liste_cumle\n"
   ]
  },
  {
   "cell_type": "code",
   "execution_count": null,
   "metadata": {},
   "outputs": [
    {
     "name": "stdout",
     "output_type": "stream",
     "text": [
      "['bugün', 'python', 'dersimiz', 'var.']\n"
     ]
    }
   ],
   "source": [
    "liste = []\n",
    "for i in liste_cumle:\n",
    "  kelime_kucuk_harf = i.lower()\n",
    "  liste.append(kelime_kucuk_harf)\n",
    "  # print(kelime_kucuk_harf)\n",
    "print(liste)"
   ]
  },
  {
   "cell_type": "code",
   "execution_count": null,
   "metadata": {},
   "outputs": [],
   "source": [
    "\"\"\"\n",
    "problem: liste = [1,2,3,4,5,6]\n",
    "fonksiyon\n",
    "  girdi: liste\n",
    "  ciktisi: listenini icersinde bulunan cift sayilarin toplami olacak\n",
    "\"\"\""
   ]
  },
  {
   "cell_type": "code",
   "execution_count": null,
   "metadata": {},
   "outputs": [
    {
     "name": "stdout",
     "output_type": "stream",
     "text": [
      "12\n"
     ]
    }
   ],
   "source": [
    "def fonksiyon(liste):\n",
    "  toplam = 0\n",
    "  for i in liste:\n",
    "    if i%2 == 0:  #cift sayi\n",
    "      toplam += i # toplam = toplam + i\n",
    "  return toplam\n",
    "\n",
    "liste=[1,2,3,4,5,6]\n",
    "print(fonksiyon(liste))"
   ]
  },
  {
   "cell_type": "code",
   "execution_count": null,
   "metadata": {},
   "outputs": [],
   "source": []
  },
  {
   "cell_type": "markdown",
   "metadata": {},
   "source": [
    "while loop"
   ]
  },
  {
   "cell_type": "code",
   "execution_count": null,
   "metadata": {},
   "outputs": [
    {
     "name": "stdout",
     "output_type": "stream",
     "text": [
      "0\n",
      "1\n",
      "2\n",
      "3\n"
     ]
    }
   ],
   "source": [
    "i = 0\n",
    "while(i < 4):\n",
    "  print(i)\n",
    "  i = i + 1"
   ]
  },
  {
   "cell_type": "code",
   "execution_count": null,
   "metadata": {},
   "outputs": [
    {
     "name": "stdout",
     "output_type": "stream",
     "text": [
      "21\n"
     ]
    }
   ],
   "source": [
    "# while ile toplama\n",
    "liste = [1,2,3,4,5,6]\n",
    "i = 0\n",
    "toplam = 0\n",
    "while(i < len(liste)): # len(liste) = 6\n",
    "  toplam = toplam + liste[i]\n",
    "  i = i + 1\n",
    "print(toplam)"
   ]
  },
  {
   "cell_type": "markdown",
   "metadata": {},
   "source": [
    "**Numpy**"
   ]
  },
  {
   "cell_type": "code",
   "execution_count": null,
   "metadata": {},
   "outputs": [],
   "source": [
    "import numpy as np"
   ]
  },
  {
   "cell_type": "code",
   "execution_count": null,
   "metadata": {},
   "outputs": [
    {
     "data": {
      "text/plain": [
       "array([ 1,  2,  3,  4,  5,  6,  7,  8,  9, 10, 11, 12, 13, 14, 15])"
      ]
     },
     "metadata": {},
     "output_type": "display_data"
    }
   ],
   "source": [
    "# numpy array olustur\n",
    "# liste = [1,2,3,4,5,6,7,8,9,10,11,12,13,14,15]\n",
    "dizi = np.array([1,2,3,4,5,6,7,8,9,10,11,12,13,14,15])\n",
    "dizi"
   ]
  },
  {
   "cell_type": "code",
   "execution_count": null,
   "metadata": {},
   "outputs": [
    {
     "data": {
      "text/plain": [
       "(15,)"
      ]
     },
     "metadata": {},
     "output_type": "display_data"
    }
   ],
   "source": [
    "# array boyutu\n",
    "dizi.shape # (15,) -> 15x1 lik bir vektor"
   ]
  },
  {
   "cell_type": "code",
   "execution_count": null,
   "metadata": {},
   "outputs": [
    {
     "data": {
      "text/plain": [
       "array([[ 1,  2,  3,  4,  5],\n",
       "       [ 6,  7,  8,  9, 10],\n",
       "       [11, 12, 13, 14, 15]])"
      ]
     },
     "metadata": {},
     "output_type": "display_data"
    }
   ],
   "source": [
    "# 15x1 lik bir arrayi 3x5 lik bir matrise cevirelim\n",
    "dizi2 = dizi.reshape(3,5)\n",
    "dizi2"
   ]
  },
  {
   "cell_type": "code",
   "execution_count": null,
   "metadata": {},
   "outputs": [
    {
     "name": "stdout",
     "output_type": "stream",
     "text": [
      "shape:  (3, 5)\n",
      "dimension:  2\n",
      "size:  15\n",
      "type:  <class 'numpy.ndarray'>\n"
     ]
    }
   ],
   "source": [
    "print(\"shape: \", dizi2.shape)\n",
    "print(\"dimension: \", dizi2.ndim)\n",
    "print(\"size: \",dizi2.size)\n",
    "print(\"type: \", type(dizi2))"
   ]
  },
  {
   "cell_type": "code",
   "execution_count": null,
   "metadata": {},
   "outputs": [
    {
     "data": {
      "text/plain": [
       "array([[1, 2, 3, 4],\n",
       "       [5, 6, 7, 8],\n",
       "       [9, 8, 7, 5]])"
      ]
     },
     "metadata": {},
     "output_type": "display_data"
    }
   ],
   "source": [
    "dizi2D = np.array([[1,2,3,4],[5,6,7,8],[9,8,7,5]])\n",
    "dizi2D"
   ]
  },
  {
   "cell_type": "code",
   "execution_count": null,
   "metadata": {},
   "outputs": [
    {
     "data": {
      "text/plain": [
       "array([[0., 0., 0., 0.],\n",
       "       [0., 0., 0., 0.],\n",
       "       [0., 0., 0., 0.]])"
      ]
     },
     "metadata": {},
     "output_type": "display_data"
    }
   ],
   "source": [
    "# sifirlardan olusan bir array olusturalim\n",
    "sifir_dizi = np.zeros((3,4))\n",
    "sifir_dizi"
   ]
  },
  {
   "cell_type": "code",
   "execution_count": null,
   "metadata": {},
   "outputs": [
    {
     "data": {
      "text/plain": [
       "array([[1., 1., 1., 1.],\n",
       "       [1., 1., 1., 1.],\n",
       "       [1., 1., 1., 1.]])"
      ]
     },
     "metadata": {},
     "output_type": "display_data"
    }
   ],
   "source": [
    "# birlerden olsan array\n",
    "bir_dizi = np.ones((3,4))\n",
    "bir_dizi"
   ]
  },
  {
   "cell_type": "code",
   "execution_count": null,
   "metadata": {},
   "outputs": [
    {
     "data": {
      "text/plain": [
       "array([[5.04540792e-310, 0.00000000e+000, 0.00000000e+000,\n",
       "        0.00000000e+000],\n",
       "       [0.00000000e+000, 0.00000000e+000, 0.00000000e+000,\n",
       "        0.00000000e+000]])"
      ]
     },
     "metadata": {},
     "output_type": "display_data"
    }
   ],
   "source": [
    "# bos bir array olustur\n",
    "bos_dizi = np.empty((2,4))\n",
    "bos_dizi"
   ]
  },
  {
   "cell_type": "code",
   "execution_count": null,
   "metadata": {},
   "outputs": [
    {
     "data": {
      "text/plain": [
       "array([10, 18, 26, 34, 42])"
      ]
     },
     "metadata": {},
     "output_type": "display_data"
    }
   ],
   "source": [
    "# arange(x,y,basamak) x den baslar y ye (y dahil degil) kadar gider basamak buyuklugunder artarak ilerler\n",
    "# 10, 50, basamak = 5\n",
    "dizi_aralik = np.arange(10,50,8)\n",
    "dizi_aralik"
   ]
  },
  {
   "cell_type": "code",
   "execution_count": null,
   "metadata": {},
   "outputs": [
    {
     "data": {
      "text/plain": [
       "103"
      ]
     },
     "metadata": {},
     "output_type": "display_data"
    }
   ],
   "source": [
    "# linspace  (x,y,basamak) x ve y(dahil) araliginde basamak kadar sayiya boler\n",
    "dizi_bosluk = np.linspace(10,50,103)\n",
    "len(dizi_bosluk)"
   ]
  },
  {
   "cell_type": "markdown",
   "metadata": {},
   "source": [
    "**Numpy Temel Operasyonları**"
   ]
  },
  {
   "cell_type": "code",
   "execution_count": null,
   "metadata": {},
   "outputs": [],
   "source": [
    "import numpy as np"
   ]
  },
  {
   "cell_type": "code",
   "execution_count": null,
   "metadata": {},
   "outputs": [],
   "source": [
    "a = np.array([1,2,3])\n",
    "b = np.array([4,5,6])"
   ]
  },
  {
   "cell_type": "code",
   "execution_count": null,
   "metadata": {},
   "outputs": [
    {
     "name": "stdout",
     "output_type": "stream",
     "text": [
      "Toplama:  [5 7 9]\n",
      "Cikarma:  [-3 -3 -3]\n",
      "Dizinin kendisi ile carpimi:  [1 4 9]\n"
     ]
    }
   ],
   "source": [
    "print(\"Toplama: \", a+b)\n",
    "print(\"Cikarma: \", a-b)\n",
    "print(\"Dizinin kendisi ile carpimi: \", a**2)"
   ]
  },
  {
   "cell_type": "code",
   "execution_count": null,
   "metadata": {},
   "outputs": [
    {
     "data": {
      "text/plain": [
       "array([ True, False, False])"
      ]
     },
     "metadata": {},
     "output_type": "display_data"
    }
   ],
   "source": [
    "# filtreleme\n",
    "a = np.array([1,2,3])\n",
    "filtre = a < 2 # a array'nin icerisinde bulunan 2 den kucuk degerleri goster\n",
    "filtre"
   ]
  },
  {
   "cell_type": "code",
   "execution_count": null,
   "metadata": {},
   "outputs": [
    {
     "data": {
      "text/plain": [
       "32"
      ]
     },
     "metadata": {},
     "output_type": "display_data"
    }
   ],
   "source": [
    "# matris carpimi\n",
    "a = np.array([1,2,3])\n",
    "b = np.array([4,5,6])\n",
    "a.dot(b)"
   ]
  },
  {
   "cell_type": "code",
   "execution_count": null,
   "metadata": {},
   "outputs": [
    {
     "data": {
      "text/plain": [
       "array([[32, 14],\n",
       "       [77, 32]])"
      ]
     },
     "metadata": {},
     "output_type": "display_data"
    }
   ],
   "source": [
    "a = np.array([[1,2,3],[4,5,6]]) # 2x3\n",
    "b = np.array([[4,5,6],[1,2,3]]) # 2x3 ->T-> 3x2\n",
    "a.dot(b.T)"
   ]
  },
  {
   "cell_type": "code",
   "execution_count": null,
   "metadata": {},
   "outputs": [
    {
     "name": "stdout",
     "output_type": "stream",
     "text": [
      "[5 7 9]\n",
      "21\n"
     ]
    }
   ],
   "source": [
    "a = np.array([[1,2,3],\n",
    "              [4,5,6]])\n",
    "print(sum(a))\n",
    "print(np.sum(a))"
   ]
  },
  {
   "cell_type": "code",
   "execution_count": null,
   "metadata": {},
   "outputs": [
    {
     "name": "stdout",
     "output_type": "stream",
     "text": [
      "6\n",
      "6\n"
     ]
    }
   ],
   "source": [
    "print(a.max())\n",
    "print(np.max(a))"
   ]
  },
  {
   "cell_type": "code",
   "execution_count": null,
   "metadata": {},
   "outputs": [
    {
     "name": "stdout",
     "output_type": "stream",
     "text": [
      "1\n",
      "1\n"
     ]
    }
   ],
   "source": [
    "print(a.min())\n",
    "print(np.min(a))"
   ]
  },
  {
   "cell_type": "code",
   "execution_count": null,
   "metadata": {},
   "outputs": [
    {
     "data": {
      "text/plain": [
       "array([ 6, 15])"
      ]
     },
     "metadata": {},
     "output_type": "display_data"
    }
   ],
   "source": [
    "# satir satir toplama\n",
    "a.sum(axis = 1)"
   ]
  },
  {
   "cell_type": "code",
   "execution_count": null,
   "metadata": {},
   "outputs": [
    {
     "data": {
      "text/plain": [
       "array([5, 7, 9])"
      ]
     },
     "metadata": {},
     "output_type": "display_data"
    }
   ],
   "source": [
    "# sutun sutun toplama\n",
    "a.sum(axis = 0)"
   ]
  },
  {
   "cell_type": "code",
   "execution_count": null,
   "metadata": {},
   "outputs": [
    {
     "data": {
      "text/plain": [
       "array([[1.        , 1.41421356, 1.73205081],\n",
       "       [2.        , 2.23606798, 2.44948974]])"
      ]
     },
     "metadata": {},
     "output_type": "display_data"
    }
   ],
   "source": [
    "# kare koku\n",
    "np.sqrt(a)"
   ]
  },
  {
   "cell_type": "code",
   "execution_count": null,
   "metadata": {},
   "outputs": [
    {
     "name": "stdout",
     "output_type": "stream",
     "text": [
      "[[ 1  4  9]\n",
      " [16 25 36]]\n",
      "[[ 1  4  9]\n",
      " [16 25 36]]\n"
     ]
    }
   ],
   "source": [
    "# karesi\n",
    "print(np.square(a))\n",
    "print(a**2)"
   ]
  },
  {
   "cell_type": "code",
   "execution_count": null,
   "metadata": {},
   "outputs": [
    {
     "data": {
      "text/plain": [
       "array([[0.58340416, 0.36154522, 0.08008394],\n",
       "       [0.99149938, 0.18092345, 0.25359485],\n",
       "       [0.06613093, 0.11380878, 0.88067948]])"
      ]
     },
     "metadata": {},
     "output_type": "display_data"
    }
   ],
   "source": [
    "# np.random.rand(3,3)"
   ]
  },
  {
   "cell_type": "code",
   "execution_count": null,
   "metadata": {},
   "outputs": [
    {
     "data": {
      "text/plain": [
       "array([[0.23809254, 0.58125061, 0.02652949],\n",
       "       [0.56337976, 0.67939152, 0.79925741],\n",
       "       [0.7477823 , 0.36735526, 0.94165395]])"
      ]
     },
     "metadata": {},
     "output_type": "display_data"
    }
   ],
   "source": [
    "# rastgele sayi uretme\n",
    "rastgele_dizi = np.random.random((3,3)) # normal dagilima gore 0-1\n",
    "rastgele_dizi"
   ]
  },
  {
   "cell_type": "code",
   "execution_count": null,
   "metadata": {},
   "outputs": [
    {
     "data": {
      "text/plain": [
       "array([[ 0.88000137, -0.24306213, -1.76753099],\n",
       "       [ 1.28405075, -0.16232154, -0.65840633],\n",
       "       [ 0.36765998,  0.04215824, -0.5232443 ],\n",
       "       [ 0.77148143, -0.03513502,  1.62264967],\n",
       "       [ 1.50764868,  0.32115817,  0.930468  ]])"
      ]
     },
     "metadata": {},
     "output_type": "display_data"
    }
   ],
   "source": [
    "rastgele_dizi = np.random.normal(0 ,1 , (5,3)) # normal dagilima 0 ortalamali 1 std, 5 adet deger uret\n",
    "rastgele_dizi"
   ]
  },
  {
   "cell_type": "markdown",
   "metadata": {},
   "source": [
    "**indeksleme ve slicing**"
   ]
  },
  {
   "cell_type": "code",
   "execution_count": null,
   "metadata": {},
   "outputs": [],
   "source": [
    "import numpy as np"
   ]
  },
  {
   "cell_type": "code",
   "execution_count": null,
   "metadata": {},
   "outputs": [
    {
     "data": {
      "text/plain": [
       "4"
      ]
     },
     "metadata": {},
     "output_type": "display_data"
    }
   ],
   "source": [
    "dizi= np.array([1,2,3,4,5,6,7])\n",
    "dizi[3]"
   ]
  },
  {
   "cell_type": "code",
   "execution_count": null,
   "metadata": {},
   "outputs": [
    {
     "data": {
      "text/plain": [
       "array([1, 2, 3, 4])"
      ]
     },
     "metadata": {},
     "output_type": "display_data"
    }
   ],
   "source": [
    "dizi[0:4]"
   ]
  },
  {
   "cell_type": "code",
   "execution_count": null,
   "metadata": {},
   "outputs": [
    {
     "data": {
      "text/plain": [
       "array([1, 2, 3, 4])"
      ]
     },
     "metadata": {},
     "output_type": "display_data"
    }
   ],
   "source": [
    "dizi[:4]"
   ]
  },
  {
   "cell_type": "code",
   "execution_count": null,
   "metadata": {},
   "outputs": [
    {
     "data": {
      "text/plain": [
       "array([7, 6, 5, 4, 3, 2, 1])"
      ]
     },
     "metadata": {},
     "output_type": "display_data"
    }
   ],
   "source": [
    "dizi[::-1]"
   ]
  },
  {
   "cell_type": "code",
   "execution_count": null,
   "metadata": {},
   "outputs": [
    {
     "data": {
      "text/plain": [
       "array([[ 1,  2,  3,  4,  5],\n",
       "       [ 6,  7,  8,  9, 10]])"
      ]
     },
     "metadata": {},
     "output_type": "display_data"
    }
   ],
   "source": [
    "dizi2D = np.array([[1,2,3,4,5],[6,7,8,9,10]])\n",
    "dizi2D"
   ]
  },
  {
   "cell_type": "code",
   "execution_count": null,
   "metadata": {},
   "outputs": [
    {
     "data": {
      "text/plain": [
       "8"
      ]
     },
     "metadata": {},
     "output_type": "display_data"
    }
   ],
   "source": [
    "dizi2D[1,2]"
   ]
  },
  {
   "cell_type": "code",
   "execution_count": null,
   "metadata": {},
   "outputs": [
    {
     "data": {
      "text/plain": [
       "array([ 6,  7,  8,  9, 10])"
      ]
     },
     "metadata": {},
     "output_type": "display_data"
    }
   ],
   "source": [
    "dizi2D[1, :] # : = hepsi sutun kismina yazdigim icin tum sutunlar demek"
   ]
  },
  {
   "cell_type": "code",
   "execution_count": null,
   "metadata": {},
   "outputs": [
    {
     "data": {
      "text/plain": [
       "array([3, 8])"
      ]
     },
     "metadata": {},
     "output_type": "display_data"
    }
   ],
   "source": [
    "dizi2D[:, 2] #  : = hepsi satir kismina yazdigim icin tum satirlar demek"
   ]
  },
  {
   "cell_type": "code",
   "execution_count": null,
   "metadata": {},
   "outputs": [
    {
     "data": {
      "text/plain": [
       "array([1, 2])"
      ]
     },
     "metadata": {},
     "output_type": "display_data"
    }
   ],
   "source": [
    "dizi2D[ 0, 0:2] # 1,  2"
   ]
  },
  {
   "cell_type": "code",
   "execution_count": null,
   "metadata": {},
   "outputs": [
    {
     "data": {
      "text/plain": [
       "array([[3, 4],\n",
       "       [8, 9]])"
      ]
     },
     "metadata": {},
     "output_type": "display_data"
    }
   ],
   "source": [
    "dizi2D[:, 2:4]\n",
    "\"\"\"\n",
    "[ 1,  2,  3,  4,  5],\n",
    "[ 6,  7,  8,  9, 10]\n",
    "\"\"\"\n"
   ]
  },
  {
   "cell_type": "code",
   "execution_count": null,
   "metadata": {},
   "outputs": [
    {
     "data": {
      "text/plain": [
       "array([ 6,  7,  8,  9, 10])"
      ]
     },
     "metadata": {},
     "output_type": "display_data"
    }
   ],
   "source": [
    "dizi2D[-1, :]"
   ]
  },
  {
   "cell_type": "code",
   "execution_count": null,
   "metadata": {},
   "outputs": [
    {
     "data": {
      "text/plain": [
       "array([2, 9])"
      ]
     },
     "metadata": {},
     "output_type": "display_data"
    }
   ],
   "source": [
    "dizi2D[[0,1], [1,3]]"
   ]
  },
  {
   "cell_type": "markdown",
   "metadata": {},
   "source": [
    "**shape manipulation**"
   ]
  },
  {
   "cell_type": "code",
   "execution_count": null,
   "metadata": {},
   "outputs": [],
   "source": [
    "import numpy as np"
   ]
  },
  {
   "cell_type": "code",
   "execution_count": null,
   "metadata": {},
   "outputs": [
    {
     "data": {
      "text/plain": [
       "array([[1, 2, 3],\n",
       "       [4, 5, 6],\n",
       "       [7, 8, 9]])"
      ]
     },
     "metadata": {},
     "output_type": "display_data"
    }
   ],
   "source": [
    "dizi2D = np.array([[1,2,3],[4,5,6],[7,8,9]])\n",
    "dizi2D"
   ]
  },
  {
   "cell_type": "code",
   "execution_count": null,
   "metadata": {},
   "outputs": [
    {
     "data": {
      "text/plain": [
       "(3, 3)"
      ]
     },
     "metadata": {},
     "output_type": "display_data"
    }
   ],
   "source": [
    "dizi2D_shape = dizi2D.shape\n",
    "dizi2D_shape"
   ]
  },
  {
   "cell_type": "code",
   "execution_count": null,
   "metadata": {},
   "outputs": [
    {
     "data": {
      "text/plain": [
       "array([[1],\n",
       "       [2],\n",
       "       [3],\n",
       "       [4],\n",
       "       [5],\n",
       "       [6],\n",
       "       [7],\n",
       "       [8],\n",
       "       [9]])"
      ]
     },
     "metadata": {},
     "output_type": "display_data"
    }
   ],
   "source": [
    "dizi2D.reshape(dizi2D_shape[0]*dizi2D_shape[1],1)"
   ]
  },
  {
   "cell_type": "code",
   "execution_count": null,
   "metadata": {},
   "outputs": [
    {
     "data": {
      "text/plain": [
       "array([[1],\n",
       "       [2],\n",
       "       [3],\n",
       "       [4],\n",
       "       [5],\n",
       "       [6],\n",
       "       [7],\n",
       "       [8],\n",
       "       [9]])"
      ]
     },
     "metadata": {},
     "output_type": "display_data"
    }
   ],
   "source": [
    "dizi2D.reshape(dizi2D_shape[0]*dizi2D_shape[1],-1)"
   ]
  },
  {
   "cell_type": "code",
   "execution_count": null,
   "metadata": {},
   "outputs": [
    {
     "data": {
      "text/plain": [
       "array([1, 2, 3, 4, 5, 6, 7, 8, 9])"
      ]
     },
     "metadata": {},
     "output_type": "display_data"
    }
   ],
   "source": [
    "dizi2D.ravel() # tensorflow -> flatten"
   ]
  },
  {
   "cell_type": "code",
   "execution_count": null,
   "metadata": {},
   "outputs": [
    {
     "data": {
      "text/plain": [
       "array([[1, 4, 7],\n",
       "       [2, 5, 8],\n",
       "       [3, 6, 9]])"
      ]
     },
     "metadata": {},
     "output_type": "display_data"
    }
   ],
   "source": [
    "dizi2D.T"
   ]
  },
  {
   "cell_type": "code",
   "execution_count": null,
   "metadata": {},
   "outputs": [
    {
     "data": {
      "text/plain": [
       "(3, 3)"
      ]
     },
     "metadata": {},
     "output_type": "display_data"
    }
   ],
   "source": [
    "dizi2D=np.array([[1,2,3],[4,5,6],[7,8,9]])\n",
    "dizi2D.shape"
   ]
  },
  {
   "cell_type": "code",
   "execution_count": null,
   "metadata": {},
   "outputs": [
    {
     "data": {
      "text/plain": [
       "(3, 3)"
      ]
     },
     "metadata": {},
     "output_type": "display_data"
    }
   ],
   "source": [
    "dizi2D_shape=dizi2D.shape\n",
    "dizi2D_shape"
   ]
  },
  {
   "cell_type": "code",
   "execution_count": null,
   "metadata": {},
   "outputs": [
    {
     "name": "stdout",
     "output_type": "stream",
     "text": [
      "[[1]\n",
      " [2]\n",
      " [3]\n",
      " [4]\n",
      " [5]\n",
      " [6]\n",
      " [7]\n",
      " [8]\n",
      " [9]]\n"
     ]
    }
   ],
   "source": [
    "print(dizi2D.reshape(dizi2D_shape[0]*dizi2D_shape[1],-1))"
   ]
  },
  {
   "cell_type": "code",
   "execution_count": null,
   "metadata": {},
   "outputs": [],
   "source": [
    "\"\"\"\"\n",
    "[[1,2]\n",
    "[3,4]]\n",
    "\n",
    "reshape(4,-1)\n",
    "\n",
    "[1,2,3,4]\n",
    "\"\"\""
   ]
  },
  {
   "cell_type": "code",
   "execution_count": null,
   "metadata": {},
   "outputs": [
    {
     "name": "stdout",
     "output_type": "stream",
     "text": [
      "C:  [[ 0.32742418  1.39065597  2.83093282  3.62819265  4.7901782 ]\n",
      " [ 5.46543483  6.64074862  7.93781858  8.61639906  9.56028326]\n",
      " [10.43240607 11.86031746 12.67615277 13.28471227 14.3735089 ]]\n",
      "D:  [[10.         12.85714286 15.71428571 18.57142857 21.42857143]\n",
      " [24.28571429 27.14285714 30.         32.85714286 35.71428571]\n",
      " [38.57142857 41.42857143 44.28571429 47.14285714 50.        ]]\n",
      "E:  [[ 10  20  30  40  50]\n",
      " [ 60  70  80  90 100]\n",
      " [110 120 130 140 150]]\n",
      "F:  [[ 20.          32.85714286  45.71428571  58.57142857  71.42857143]\n",
      " [ 84.28571429  97.14285714 110.         122.85714286 135.71428571]\n",
      " [148.57142857 161.42857143 174.28571429 187.14285714 200.        ]]\n",
      "G shape:  (15,)\n"
     ]
    }
   ],
   "source": [
    "\"\"\"\n",
    "1) A array = 2 boyutlu bir tane array -> (3,5)\n",
    "2) B array = 1 boyutlu bir tane array -> (15,)\n",
    "3) B array'ini (3,5) olacak sekilde reshape yapalim\n",
    "4) C = A + B\n",
    "5) D=linspace ve E=arange ile (3,5) lik matrisler olusturalim.\n",
    "6) F = D + E\n",
    "7) C'nin ve F'nin her bir elemanini for dongusu ile eleman eleman carpip G = (15,1) boyutunda elde edelim.\n",
    "8) C ve F'yi (15,1) sonrasında C'nin ilk elemani ile F'nin son elemani toplayarak ilerleyelim.\n",
    "9) toplam degerleri eger 1 den buyukse G1 isimli bir listeye atalim, else ise G2 isimli listeye atalim\n",
    "\"\"\"\n",
    "import numpy as np\n",
    "# 2 boyutlu bir dizi oluşturma (3x5)\n",
    "A = np.random.rand(3, 5)  # 0 ile 1 arasında rastgele sayılarla dolu 3x5'lik bir dizi\n",
    "# 1 boyutlu bir dizi oluşturma (15 elemanlı)\n",
    "B = np.arange(15)  # 0'dan 14'e kadar sayıları içeren bir dizi\n",
    "# B dizisini 3x5 boyutunda yeniden şekillendirme\n",
    "B = B.reshape(3, 5)\n",
    "# A ve B dizilerini toplama\n",
    "C = A + B\n",
    "print(\"C: \",C)\n",
    "D=np.linspace(10,50,15).reshape(3,5)\n",
    "print(\"D: \",D)\n",
    "E=np.arange(10,160,10).reshape(3,5)\n",
    "print(\"E: \",E)\n",
    "F=D+E\n",
    "print(\"F: \",F)\n",
    "G = []\n",
    "for i in range(C.shape[0]):  # 3\n",
    "    for j in range(C.shape[1]):  # 5\n",
    "        G.append(C[i, j] * F[i, j])\n",
    "print(\"G shape: \",np.array(G).shape)"
   ]
  },
  {
   "cell_type": "code",
   "execution_count": null,
   "metadata": {},
   "outputs": [
    {
     "name": "stdout",
     "output_type": "stream",
     "text": [
      "[array([20.32742418]), array([34.24779882]), array([48.54521854]), array([62.19962122]), array([76.21874962]), array([89.75114912]), array([103.78360576]), array([117.93781858]), array([131.47354192]), array([145.27456898]), array([159.00383464]), array([173.28888889]), array([186.96186706]), array([200.42756941]), array([214.3735089])] []\n"
     ]
    }
   ],
   "source": [
    "\"\"\"\n",
    "[1,2,3]\n",
    "\n",
    "[4,5,6]\n",
    "7,7,7\n",
    "\"\"\"\n",
    "C = C.reshape(15,1)\n",
    "F = F.reshape(15,1)\n",
    "F =F[::-1]\n",
    "G1 = []\n",
    "G2 = []\n",
    "for i in range(len(C)):\n",
    "    toplam = C[i] + F[i]\n",
    "    if toplam > 1:\n",
    "        G1.append(toplam)\n",
    "    else:\n",
    "        G2.append(toplam)\n",
    "print(G1,G2)"
   ]
  },
  {
   "cell_type": "code",
   "execution_count": null,
   "metadata": {},
   "outputs": [
    {
     "name": "stdout",
     "output_type": "stream",
     "text": [
      "G1 (Toplam > 1 olanlar): [200.3274241810467, 188.53351310915698, 177.11664710813443, 165.05676407668426, 153.36160676686742, 141.17972054778826, 129.4978914723449, 117.93781858145316, 105.75925620685932, 93.84599755056932, 81.86097749537447, 70.43174603218262, 58.39043848529876, 46.14185512387553, 34.37350889945884]\n",
      "G2 (Toplam <= 1 olanlar): []\n"
     ]
    }
   ],
   "source": [
    "C_flat = C.reshape(-1, 1)  # -1 otomatik olarak 15 elemanı kullanır\n",
    "F_flat = F.reshape(-1, 1)\n",
    "\n",
    "# G1 ve G2 listelerini tanımlama\n",
    "G1 = []\n",
    "G2 = []\n",
    "\n",
    "# C'nin ilk elemanı ve F'nin son elemanı toplama işlemi ile ilerleme\n",
    "for i in range(len(C_flat)):  # C_flat'in uzunluğunu kullanarak döngüyü oluştur\n",
    "    toplam = C_flat[i, 0] + F_flat[len(F_flat) - 1 - i, 0]  # len kullanarak sondan eleman al\n",
    "    if toplam > 1:\n",
    "        G1.append(toplam)\n",
    "    else:\n",
    "        G2.append(toplam)\n",
    "# Sonuçları yazdırma\n",
    "print(\"G1 (Toplam > 1 olanlar):\", G1)\n",
    "print(\"G2 (Toplam <= 1 olanlar):\", G2)"
   ]
  },
  {
   "cell_type": "code",
   "execution_count": null,
   "metadata": {},
   "outputs": [],
   "source": []
  }
 ],
 "metadata": {
  "kernelspec": {
   "display_name": "Python 3",
   "language": "python",
   "name": "python3"
  },
  "language_info": {
   "name": "python",
   "version": "3.9.13"
  }
 },
 "nbformat": 4,
 "nbformat_minor": 2
}
