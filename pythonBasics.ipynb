{
 "cells": [
  {
   "cell_type": "code",
   "execution_count": null,
   "metadata": {},
   "outputs": [
    {
     "name": "stdout",
     "output_type": "stream",
     "text": []
    }
   ],
   "source": [
    "# bu benim ilk comment im\n",
    "# degisken - variable\n",
    "# integer(tamsayi) degisken- variable\n",
    "tamsayi_degiskeni = 10 # 10 tamsayisi icin bir degisken tanimladim, bu degiskenin ismi tamsayi_degiskeni\n",
    "tamsayi_degiskeni2 = 15\n",
    "print(tamsayi_degiskeni)\n",
    "print(tamsayi_degiskeni2)"
   ]
  },
  {
   "cell_type": "markdown",
   "metadata": {},
   "source": [
    "**Kesirli Sayi**\n",
    "\n"
   ]
  },
  {
   "cell_type": "code",
   "execution_count": null,
   "metadata": {},
   "outputs": [
    {
     "name": "stdout",
     "output_type": "stream",
     "text": [
      "10.5\n"
     ]
    }
   ],
   "source": [
    "# kesirli sayi - float\n",
    "kesirlisayi_degisken = 10.5\n",
    "print(kesirlisayi_degisken)"
   ]
  },
  {
   "cell_type": "markdown",
   "metadata": {},
   "source": [
    "4 işlem özelliği"
   ]
  },
  {
   "cell_type": "code",
   "execution_count": null,
   "metadata": {},
   "outputs": [
    {
     "name": "stdout",
     "output_type": "stream",
     "text": [
      "25\n",
      "150\n",
      "-5\n",
      "0.6666666666666666\n"
     ]
    }
   ],
   "source": [
    "toplam = tamsayi_degiskeni + tamsayi_degiskeni2\n",
    "carpma = tamsayi_degiskeni * tamsayi_degiskeni2\n",
    "cikarma = tamsayi_degiskeni - tamsayi_degiskeni2\n",
    "bolme = tamsayi_degiskeni / tamsayi_degiskeni2\n",
    "print(toplam)\n",
    "print(carpma)\n",
    "print(cikarma)\n",
    "print(bolme)"
   ]
  },
  {
   "cell_type": "code",
   "execution_count": null,
   "metadata": {},
   "outputs": [
    {
     "name": "stdout",
     "output_type": "stream",
     "text": [
      "hello world\n"
     ]
    }
   ],
   "source": [
    "metin = \"hello world\" # string - metin\n",
    "print(metin)"
   ]
  },
  {
   "cell_type": "code",
   "execution_count": null,
   "metadata": {},
   "outputs": [
    {
     "data": {
      "text/plain": [
       "str"
      ]
     },
     "metadata": {},
     "output_type": "display_data"
    }
   ],
   "source": [
    "type(metin)"
   ]
  },
  {
   "cell_type": "code",
   "execution_count": null,
   "metadata": {},
   "outputs": [
    {
     "data": {
      "application/vnd.google.colaboratory.intrinsic+json": {
       "type": "string"
      },
      "text/plain": [
       "'merhaba dunya'"
      ]
     },
     "metadata": {},
     "output_type": "display_data"
    }
   ],
   "source": [
    "metin1 = \"merhaba\"\n",
    "bosluk = \" \"\n",
    "metin2 = \"dunya\"\n",
    "metin1 + bosluk + metin2"
   ]
  },
  {
   "cell_type": "code",
   "execution_count": null,
   "metadata": {},
   "outputs": [
    {
     "name": "stdout",
     "output_type": "stream",
     "text": [
      "elma: 10 tl, armut: 20 tl\n",
      "elma: 10 tl, armut: 20 tl\n"
     ]
    }
   ],
   "source": [
    "# f string\n",
    "# elma: 10 tl\n",
    "# armut: 20 tl\n",
    "elma_degisken = 10\n",
    "armut_degisken = 20\n",
    "print(f\"elma: {elma_degisken} tl, armut: {armut_degisken} tl\")\n",
    "print(\"elma: {} tl, armut: {} tl\".format(elma_degisken, armut_degisken))\n",
    "# elma: {elma_degisken} tl, armut: {armut_degisken} tl\n",
    "# elma: 10 tl, armut: 20 tl"
   ]
  },
  {
   "cell_type": "markdown",
   "metadata": {},
   "source": [
    "Python Syntax"
   ]
  },
  {
   "cell_type": "code",
   "execution_count": null,
   "metadata": {},
   "outputs": [
    {
     "name": "stdout",
     "output_type": "stream",
     "text": [
      "6\n",
      "7\n"
     ]
    }
   ],
   "source": [
    "temel = 6\n",
    "TEMEL = 7\n",
    "print(temel)\n",
    "print(TEMEL)"
   ]
  },
  {
   "cell_type": "code",
   "execution_count": null,
   "metadata": {},
   "outputs": [
    {
     "data": {
      "application/vnd.google.colaboratory.intrinsic+json": {
       "type": "string"
      },
      "text/plain": [
       "'\\n istedigimiz her seyi yazariz kimsade bize karisamaz\\n'"
      ]
     },
     "metadata": {},
     "output_type": "display_data"
    }
   ],
   "source": [
    "# COMMENT\n",
    "\"\"\"\n",
    " istedigimiz her seyi yazariz kimsade bize karisamaz\n",
    "\"\"\""
   ]
  },
  {
   "cell_type": "code",
   "execution_count": null,
   "metadata": {},
   "outputs": [
    {
     "name": "stdout",
     "output_type": "stream",
     "text": [
      "5\n"
     ]
    }
   ],
   "source": [
    "print(5) # print = build-in function"
   ]
  },
  {
   "cell_type": "code",
   "execution_count": null,
   "metadata": {},
   "outputs": [],
   "source": [
    "# print = 10"
   ]
  },
  {
   "cell_type": "code",
   "execution_count": null,
   "metadata": {},
   "outputs": [
    {
     "name": "stdout",
     "output_type": "stream",
     "text": [
      "5\n"
     ]
    }
   ],
   "source": [
    "print(5)"
   ]
  },
  {
   "cell_type": "markdown",
   "metadata": {},
   "source": [
    "**Fonksiyonlar**"
   ]
  },
  {
   "cell_type": "markdown",
   "metadata": {},
   "source": [
    "\n",
    "*   Kullanıcı Tanımlı Fonksiyonlar (User Defined Function)\n",
    "\n",
    "\n",
    "\n"
   ]
  },
  {
   "cell_type": "code",
   "execution_count": null,
   "metadata": {},
   "outputs": [
    {
     "name": "stdout",
     "output_type": "stream",
     "text": [
      "28.26\n"
     ]
    }
   ],
   "source": [
    "# dairenin alanını hesaplamak pi*r^2\n",
    "pi = 3.14\n",
    "daire_yaricapi = 3\n",
    "daire_alani = pi*(daire_yaricapi**2)\n",
    "print(daire_alani)"
   ]
  },
  {
   "cell_type": "code",
   "execution_count": null,
   "metadata": {},
   "outputs": [],
   "source": [
    "def daireAlaniHesapla(daire_yaricapi = 5): # func ismi yazarken islevi belirtmek lazim\n",
    "  \"\"\"\n",
    "    Description: Bu fonksiyon daire alanini hesaplar.\n",
    "    input parameters: dairenin yaricapi (daire_yaricapi)\n",
    "    output: dairenin alani (daire_alani)\n",
    "  \"\"\"\n",
    "  PI = 3.14\n",
    "  daire_alani = PI*(daire_yaricapi**2)\n",
    "  print(f\"Daire Alani: {daire_alani}\")\n",
    "  return daire_alani"
   ]
  },
  {
   "cell_type": "code",
   "execution_count": null,
   "metadata": {},
   "outputs": [
    {
     "name": "stdout",
     "output_type": "stream",
     "text": [
      "Daire Alani: 78.5\n"
     ]
    }
   ],
   "source": [
    "daireAlaniHesapla()"
   ]
  },
  {
   "cell_type": "code",
   "execution_count": null,
   "metadata": {},
   "outputs": [
    {
     "name": "stdout",
     "output_type": "stream",
     "text": [
      "Bir daire yari capi girin: 10\n",
      "girilen deger: 10 ve bu degerin type: <class 'str'>\n",
      "<class 'int'>\n",
      "Daire Alani: 314.0\n"
     ]
    }
   ],
   "source": [
    "user_input  = input(\"Bir daire yari capi girin: \")\n",
    "print(f\"girilen deger: {user_input} ve bu degerin type: {type(user_input)}\")\n",
    "user_input_int = int(user_input)\n",
    "print(f\"{type(user_input_int)}\")\n",
    "daireAlaniHesapla(user_input_int)"
   ]
  },
  {
   "cell_type": "code",
   "execution_count": null,
   "metadata": {},
   "outputs": [
    {
     "name": "stdout",
     "output_type": "stream",
     "text": [
      "Daire Alani: 78.5\n",
      "Daire Alani: 28.26\n",
      "106.76\n"
     ]
    }
   ],
   "source": [
    "daire_alani_hesaplanan1 = daireAlaniHesapla(5)\n",
    "daire_alani_hesaplanan2 = daireAlaniHesapla(3)\n",
    "print(daire_alani_hesaplanan1 + daire_alani_hesaplanan2)"
   ]
  },
  {
   "cell_type": "code",
   "execution_count": null,
   "metadata": {},
   "outputs": [],
   "source": [
    "# daire cevresi hesaplama: 2*pi*r\n",
    "def daireCevresiHesapla(r):\n",
    "  PI = 3.14\n",
    "  daire_cevresi = 2*PI*r\n",
    "  return daire_cevresi"
   ]
  },
  {
   "cell_type": "code",
   "execution_count": null,
   "metadata": {},
   "outputs": [
    {
     "name": "stdout",
     "output_type": "stream",
     "text": [
      "hesapladigimiz daire ccevresi: 31.400000000000002\n"
     ]
    }
   ],
   "source": [
    "daire_cevresi_hesaplanan = daireCevresiHesapla(5)\n",
    "print(f\"hesapladigimiz daire ccevresi: {daire_cevresi_hesaplanan}\")"
   ]
  },
  {
   "cell_type": "code",
   "execution_count": null,
   "metadata": {},
   "outputs": [],
   "source": []
  }
 ],
 "metadata": {
  "kernelspec": {
   "display_name": "Python 3",
   "language": "python",
   "name": "python3"
  },
  "language_info": {
   "name": "python",
   "version": "3.9.13"
  }
 },
 "nbformat": 4,
 "nbformat_minor": 2
}
