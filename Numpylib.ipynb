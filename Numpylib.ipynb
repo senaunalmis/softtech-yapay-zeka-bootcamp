{
 "cells": [
  {
   "cell_type": "markdown",
   "metadata": {},
   "source": [
    "**Numpy**"
   ]
  },
  {
   "cell_type": "code",
   "execution_count": null,
   "metadata": {},
   "outputs": [],
   "source": [
    "import numpy as np"
   ]
  },
  {
   "cell_type": "code",
   "execution_count": null,
   "metadata": {},
   "outputs": [
    {
     "data": {
      "text/plain": [
       "array([ 1,  2,  3,  4,  5,  6,  7,  8,  9, 10, 11, 12, 13, 14, 15])"
      ]
     },
     "metadata": {},
     "output_type": "display_data"
    }
   ],
   "source": [
    "# numpy array olustur\n",
    "# liste = [1,2,3,4,5,6,7,8,9,10,11,12,13,14,15]\n",
    "dizi = np.array([1,2,3,4,5,6,7,8,9,10,11,12,13,14,15])\n",
    "dizi"
   ]
  },
  {
   "cell_type": "code",
   "execution_count": null,
   "metadata": {},
   "outputs": [
    {
     "data": {
      "text/plain": [
       "(15,)"
      ]
     },
     "metadata": {},
     "output_type": "display_data"
    }
   ],
   "source": [
    "# array boyutu\n",
    "dizi.shape # (15,) -> 15x1 lik bir vektor"
   ]
  },
  {
   "cell_type": "code",
   "execution_count": null,
   "metadata": {},
   "outputs": [
    {
     "data": {
      "text/plain": [
       "array([[ 1,  2,  3,  4,  5],\n",
       "       [ 6,  7,  8,  9, 10],\n",
       "       [11, 12, 13, 14, 15]])"
      ]
     },
     "metadata": {},
     "output_type": "display_data"
    }
   ],
   "source": [
    "# 15x1 lik bir arrayi 3x5 lik bir matrise cevirelim\n",
    "dizi2 = dizi.reshape(3,5)\n",
    "dizi2"
   ]
  },
  {
   "cell_type": "code",
   "execution_count": null,
   "metadata": {},
   "outputs": [
    {
     "name": "stdout",
     "output_type": "stream",
     "text": [
      "shape:  (3, 5)\n",
      "dimension:  2\n",
      "size:  15\n",
      "type:  <class 'numpy.ndarray'>\n"
     ]
    }
   ],
   "source": [
    "print(\"shape: \", dizi2.shape)\n",
    "print(\"dimension: \", dizi2.ndim)\n",
    "print(\"size: \",dizi2.size)\n",
    "print(\"type: \", type(dizi2))"
   ]
  },
  {
   "cell_type": "code",
   "execution_count": null,
   "metadata": {},
   "outputs": [
    {
     "data": {
      "text/plain": [
       "array([[1, 2, 3, 4],\n",
       "       [5, 6, 7, 8],\n",
       "       [9, 8, 7, 5]])"
      ]
     },
     "metadata": {},
     "output_type": "display_data"
    }
   ],
   "source": [
    "dizi2D = np.array([[1,2,3,4],[5,6,7,8],[9,8,7,5]])\n",
    "dizi2D"
   ]
  },
  {
   "cell_type": "code",
   "execution_count": null,
   "metadata": {},
   "outputs": [
    {
     "data": {
      "text/plain": [
       "array([[0., 0., 0., 0.],\n",
       "       [0., 0., 0., 0.],\n",
       "       [0., 0., 0., 0.]])"
      ]
     },
     "metadata": {},
     "output_type": "display_data"
    }
   ],
   "source": [
    "# sifirlardan olusan bir array olusturalim\n",
    "sifir_dizi = np.zeros((3,4))\n",
    "sifir_dizi"
   ]
  },
  {
   "cell_type": "code",
   "execution_count": null,
   "metadata": {},
   "outputs": [
    {
     "data": {
      "text/plain": [
       "array([[1., 1., 1., 1.],\n",
       "       [1., 1., 1., 1.],\n",
       "       [1., 1., 1., 1.]])"
      ]
     },
     "metadata": {},
     "output_type": "display_data"
    }
   ],
   "source": [
    "# birlerden olsan array\n",
    "bir_dizi = np.ones((3,4))\n",
    "bir_dizi"
   ]
  },
  {
   "cell_type": "code",
   "execution_count": null,
   "metadata": {},
   "outputs": [
    {
     "data": {
      "text/plain": [
       "array([[5.04540792e-310, 0.00000000e+000, 0.00000000e+000,\n",
       "        0.00000000e+000],\n",
       "       [0.00000000e+000, 0.00000000e+000, 0.00000000e+000,\n",
       "        0.00000000e+000]])"
      ]
     },
     "metadata": {},
     "output_type": "display_data"
    }
   ],
   "source": [
    "# bos bir array olustur\n",
    "bos_dizi = np.empty((2,4))\n",
    "bos_dizi"
   ]
  },
  {
   "cell_type": "code",
   "execution_count": null,
   "metadata": {},
   "outputs": [
    {
     "data": {
      "text/plain": [
       "array([10, 18, 26, 34, 42])"
      ]
     },
     "metadata": {},
     "output_type": "display_data"
    }
   ],
   "source": [
    "# arange(x,y,basamak) x den baslar y ye (y dahil degil) kadar gider basamak buyuklugunder artarak ilerler\n",
    "# 10, 50, basamak = 5\n",
    "dizi_aralik = np.arange(10,50,8)\n",
    "dizi_aralik"
   ]
  },
  {
   "cell_type": "code",
   "execution_count": null,
   "metadata": {},
   "outputs": [
    {
     "data": {
      "text/plain": [
       "103"
      ]
     },
     "metadata": {},
     "output_type": "display_data"
    }
   ],
   "source": [
    "# linspace  (x,y,basamak) x ve y(dahil) araliginde basamak kadar sayiya boler\n",
    "dizi_bosluk = np.linspace(10,50,103)\n",
    "len(dizi_bosluk)"
   ]
  },
  {
   "cell_type": "markdown",
   "metadata": {},
   "source": [
    "**Numpy Temel Operasyonları**"
   ]
  },
  {
   "cell_type": "code",
   "execution_count": null,
   "metadata": {},
   "outputs": [],
   "source": [
    "import numpy as np"
   ]
  },
  {
   "cell_type": "code",
   "execution_count": null,
   "metadata": {},
   "outputs": [],
   "source": [
    "a = np.array([1,2,3])\n",
    "b = np.array([4,5,6])"
   ]
  },
  {
   "cell_type": "code",
   "execution_count": null,
   "metadata": {},
   "outputs": [
    {
     "name": "stdout",
     "output_type": "stream",
     "text": [
      "Toplama:  [5 7 9]\n",
      "Cikarma:  [-3 -3 -3]\n",
      "Dizinin kendisi ile carpimi:  [1 4 9]\n"
     ]
    }
   ],
   "source": [
    "print(\"Toplama: \", a+b)\n",
    "print(\"Cikarma: \", a-b)\n",
    "print(\"Dizinin kendisi ile carpimi: \", a**2)"
   ]
  },
  {
   "cell_type": "code",
   "execution_count": null,
   "metadata": {},
   "outputs": [
    {
     "data": {
      "text/plain": [
       "array([ True, False, False])"
      ]
     },
     "metadata": {},
     "output_type": "display_data"
    }
   ],
   "source": [
    "# filtreleme\n",
    "a = np.array([1,2,3])\n",
    "filtre = a < 2 # a array'nin icerisinde bulunan 2 den kucuk degerleri goster\n",
    "filtre"
   ]
  },
  {
   "cell_type": "code",
   "execution_count": null,
   "metadata": {},
   "outputs": [
    {
     "data": {
      "text/plain": [
       "32"
      ]
     },
     "metadata": {},
     "output_type": "display_data"
    }
   ],
   "source": [
    "# matris carpimi\n",
    "a = np.array([1,2,3])\n",
    "b = np.array([4,5,6])\n",
    "a.dot(b)"
   ]
  },
  {
   "cell_type": "code",
   "execution_count": null,
   "metadata": {},
   "outputs": [
    {
     "data": {
      "text/plain": [
       "array([[32, 14],\n",
       "       [77, 32]])"
      ]
     },
     "metadata": {},
     "output_type": "display_data"
    }
   ],
   "source": [
    "a = np.array([[1,2,3],[4,5,6]]) # 2x3\n",
    "b = np.array([[4,5,6],[1,2,3]]) # 2x3 ->T-> 3x2\n",
    "a.dot(b.T)"
   ]
  },
  {
   "cell_type": "code",
   "execution_count": null,
   "metadata": {},
   "outputs": [
    {
     "name": "stdout",
     "output_type": "stream",
     "text": [
      "[5 7 9]\n",
      "21\n"
     ]
    }
   ],
   "source": [
    "a = np.array([[1,2,3],\n",
    "              [4,5,6]])\n",
    "print(sum(a))\n",
    "print(np.sum(a))"
   ]
  },
  {
   "cell_type": "code",
   "execution_count": null,
   "metadata": {},
   "outputs": [
    {
     "name": "stdout",
     "output_type": "stream",
     "text": [
      "6\n",
      "6\n"
     ]
    }
   ],
   "source": [
    "print(a.max())\n",
    "print(np.max(a))"
   ]
  },
  {
   "cell_type": "code",
   "execution_count": null,
   "metadata": {},
   "outputs": [
    {
     "name": "stdout",
     "output_type": "stream",
     "text": [
      "1\n",
      "1\n"
     ]
    }
   ],
   "source": [
    "print(a.min())\n",
    "print(np.min(a))"
   ]
  },
  {
   "cell_type": "code",
   "execution_count": null,
   "metadata": {},
   "outputs": [
    {
     "data": {
      "text/plain": [
       "array([ 6, 15])"
      ]
     },
     "metadata": {},
     "output_type": "display_data"
    }
   ],
   "source": [
    "# satir satir toplama\n",
    "a.sum(axis = 1)"
   ]
  },
  {
   "cell_type": "code",
   "execution_count": null,
   "metadata": {},
   "outputs": [
    {
     "data": {
      "text/plain": [
       "array([5, 7, 9])"
      ]
     },
     "metadata": {},
     "output_type": "display_data"
    }
   ],
   "source": [
    "# sutun sutun toplama\n",
    "a.sum(axis = 0)"
   ]
  },
  {
   "cell_type": "code",
   "execution_count": null,
   "metadata": {},
   "outputs": [
    {
     "data": {
      "text/plain": [
       "array([[1.        , 1.41421356, 1.73205081],\n",
       "       [2.        , 2.23606798, 2.44948974]])"
      ]
     },
     "metadata": {},
     "output_type": "display_data"
    }
   ],
   "source": [
    "# kare koku\n",
    "np.sqrt(a)"
   ]
  },
  {
   "cell_type": "code",
   "execution_count": null,
   "metadata": {},
   "outputs": [
    {
     "name": "stdout",
     "output_type": "stream",
     "text": [
      "[[ 1  4  9]\n",
      " [16 25 36]]\n",
      "[[ 1  4  9]\n",
      " [16 25 36]]\n"
     ]
    }
   ],
   "source": [
    "# karesi\n",
    "print(np.square(a))\n",
    "print(a**2)"
   ]
  },
  {
   "cell_type": "code",
   "execution_count": null,
   "metadata": {},
   "outputs": [
    {
     "data": {
      "text/plain": [
       "array([[0.58340416, 0.36154522, 0.08008394],\n",
       "       [0.99149938, 0.18092345, 0.25359485],\n",
       "       [0.06613093, 0.11380878, 0.88067948]])"
      ]
     },
     "metadata": {},
     "output_type": "display_data"
    }
   ],
   "source": [
    "# np.random.rand(3,3)"
   ]
  },
  {
   "cell_type": "code",
   "execution_count": null,
   "metadata": {},
   "outputs": [
    {
     "data": {
      "text/plain": [
       "array([[0.23809254, 0.58125061, 0.02652949],\n",
       "       [0.56337976, 0.67939152, 0.79925741],\n",
       "       [0.7477823 , 0.36735526, 0.94165395]])"
      ]
     },
     "metadata": {},
     "output_type": "display_data"
    }
   ],
   "source": [
    "# rastgele sayi uretme\n",
    "rastgele_dizi = np.random.random((3,3)) # normal dagilima gore 0-1\n",
    "rastgele_dizi"
   ]
  },
  {
   "cell_type": "code",
   "execution_count": null,
   "metadata": {},
   "outputs": [
    {
     "data": {
      "text/plain": [
       "array([[ 0.88000137, -0.24306213, -1.76753099],\n",
       "       [ 1.28405075, -0.16232154, -0.65840633],\n",
       "       [ 0.36765998,  0.04215824, -0.5232443 ],\n",
       "       [ 0.77148143, -0.03513502,  1.62264967],\n",
       "       [ 1.50764868,  0.32115817,  0.930468  ]])"
      ]
     },
     "metadata": {},
     "output_type": "display_data"
    }
   ],
   "source": [
    "rastgele_dizi = np.random.normal(0 ,1 , (5,3)) # normal dagilima 0 ortalamali 1 std, 5 adet deger uret\n",
    "rastgele_dizi"
   ]
  },
  {
   "cell_type": "markdown",
   "metadata": {},
   "source": [
    "**indeksleme ve slicing**"
   ]
  },
  {
   "cell_type": "code",
   "execution_count": null,
   "metadata": {},
   "outputs": [],
   "source": [
    "import numpy as np"
   ]
  },
  {
   "cell_type": "code",
   "execution_count": null,
   "metadata": {},
   "outputs": [
    {
     "data": {
      "text/plain": [
       "4"
      ]
     },
     "metadata": {},
     "output_type": "display_data"
    }
   ],
   "source": [
    "dizi= np.array([1,2,3,4,5,6,7])\n",
    "dizi[3]"
   ]
  },
  {
   "cell_type": "code",
   "execution_count": null,
   "metadata": {},
   "outputs": [
    {
     "data": {
      "text/plain": [
       "array([1, 2, 3, 4])"
      ]
     },
     "metadata": {},
     "output_type": "display_data"
    }
   ],
   "source": [
    "dizi[0:4]"
   ]
  },
  {
   "cell_type": "code",
   "execution_count": null,
   "metadata": {},
   "outputs": [
    {
     "data": {
      "text/plain": [
       "array([1, 2, 3, 4])"
      ]
     },
     "metadata": {},
     "output_type": "display_data"
    }
   ],
   "source": [
    "dizi[:4]"
   ]
  },
  {
   "cell_type": "code",
   "execution_count": null,
   "metadata": {},
   "outputs": [
    {
     "data": {
      "text/plain": [
       "array([7, 6, 5, 4, 3, 2, 1])"
      ]
     },
     "metadata": {},
     "output_type": "display_data"
    }
   ],
   "source": [
    "dizi[::-1]"
   ]
  },
  {
   "cell_type": "code",
   "execution_count": null,
   "metadata": {},
   "outputs": [
    {
     "data": {
      "text/plain": [
       "array([[ 1,  2,  3,  4,  5],\n",
       "       [ 6,  7,  8,  9, 10]])"
      ]
     },
     "metadata": {},
     "output_type": "display_data"
    }
   ],
   "source": [
    "dizi2D = np.array([[1,2,3,4,5],[6,7,8,9,10]])\n",
    "dizi2D"
   ]
  },
  {
   "cell_type": "code",
   "execution_count": null,
   "metadata": {},
   "outputs": [
    {
     "data": {
      "text/plain": [
       "8"
      ]
     },
     "metadata": {},
     "output_type": "display_data"
    }
   ],
   "source": [
    "dizi2D[1,2]"
   ]
  },
  {
   "cell_type": "code",
   "execution_count": null,
   "metadata": {},
   "outputs": [
    {
     "data": {
      "text/plain": [
       "array([ 6,  7,  8,  9, 10])"
      ]
     },
     "metadata": {},
     "output_type": "display_data"
    }
   ],
   "source": [
    "dizi2D[1, :] # : = hepsi sutun kismina yazdigim icin tum sutunlar demek"
   ]
  },
  {
   "cell_type": "code",
   "execution_count": null,
   "metadata": {},
   "outputs": [
    {
     "data": {
      "text/plain": [
       "array([3, 8])"
      ]
     },
     "metadata": {},
     "output_type": "display_data"
    }
   ],
   "source": [
    "dizi2D[:, 2] #  : = hepsi satir kismina yazdigim icin tum satirlar demek"
   ]
  },
  {
   "cell_type": "code",
   "execution_count": null,
   "metadata": {},
   "outputs": [
    {
     "data": {
      "text/plain": [
       "array([1, 2])"
      ]
     },
     "metadata": {},
     "output_type": "display_data"
    }
   ],
   "source": [
    "dizi2D[ 0, 0:2] # 1,  2"
   ]
  },
  {
   "cell_type": "code",
   "execution_count": null,
   "metadata": {},
   "outputs": [
    {
     "data": {
      "text/plain": [
       "array([[3, 4],\n",
       "       [8, 9]])"
      ]
     },
     "metadata": {},
     "output_type": "display_data"
    }
   ],
   "source": [
    "dizi2D[:, 2:4]\n",
    "\"\"\"\n",
    "[ 1,  2,  3,  4,  5],\n",
    "[ 6,  7,  8,  9, 10]\n",
    "\"\"\"\n"
   ]
  },
  {
   "cell_type": "code",
   "execution_count": null,
   "metadata": {},
   "outputs": [
    {
     "data": {
      "text/plain": [
       "array([ 6,  7,  8,  9, 10])"
      ]
     },
     "metadata": {},
     "output_type": "display_data"
    }
   ],
   "source": [
    "dizi2D[-1, :]"
   ]
  },
  {
   "cell_type": "code",
   "execution_count": null,
   "metadata": {},
   "outputs": [
    {
     "data": {
      "text/plain": [
       "array([2, 9])"
      ]
     },
     "metadata": {},
     "output_type": "display_data"
    }
   ],
   "source": [
    "dizi2D[[0,1], [1,3]]"
   ]
  },
  {
   "cell_type": "markdown",
   "metadata": {},
   "source": [
    "**shape manipulation**"
   ]
  },
  {
   "cell_type": "code",
   "execution_count": null,
   "metadata": {},
   "outputs": [],
   "source": [
    "import numpy as np"
   ]
  },
  {
   "cell_type": "code",
   "execution_count": null,
   "metadata": {},
   "outputs": [
    {
     "data": {
      "text/plain": [
       "array([[1, 2, 3],\n",
       "       [4, 5, 6],\n",
       "       [7, 8, 9]])"
      ]
     },
     "metadata": {},
     "output_type": "display_data"
    }
   ],
   "source": [
    "dizi2D = np.array([[1,2,3],[4,5,6],[7,8,9]])\n",
    "dizi2D"
   ]
  },
  {
   "cell_type": "code",
   "execution_count": null,
   "metadata": {},
   "outputs": [
    {
     "data": {
      "text/plain": [
       "(3, 3)"
      ]
     },
     "metadata": {},
     "output_type": "display_data"
    }
   ],
   "source": [
    "dizi2D_shape = dizi2D.shape\n",
    "dizi2D_shape"
   ]
  },
  {
   "cell_type": "code",
   "execution_count": null,
   "metadata": {},
   "outputs": [
    {
     "data": {
      "text/plain": [
       "array([[1],\n",
       "       [2],\n",
       "       [3],\n",
       "       [4],\n",
       "       [5],\n",
       "       [6],\n",
       "       [7],\n",
       "       [8],\n",
       "       [9]])"
      ]
     },
     "metadata": {},
     "output_type": "display_data"
    }
   ],
   "source": [
    "dizi2D.reshape(dizi2D_shape[0]*dizi2D_shape[1],1)"
   ]
  },
  {
   "cell_type": "code",
   "execution_count": null,
   "metadata": {},
   "outputs": [
    {
     "data": {
      "text/plain": [
       "array([[1],\n",
       "       [2],\n",
       "       [3],\n",
       "       [4],\n",
       "       [5],\n",
       "       [6],\n",
       "       [7],\n",
       "       [8],\n",
       "       [9]])"
      ]
     },
     "metadata": {},
     "output_type": "display_data"
    }
   ],
   "source": [
    "dizi2D.reshape(dizi2D_shape[0]*dizi2D_shape[1],-1)"
   ]
  },
  {
   "cell_type": "code",
   "execution_count": null,
   "metadata": {},
   "outputs": [
    {
     "data": {
      "text/plain": [
       "array([1, 2, 3, 4, 5, 6, 7, 8, 9])"
      ]
     },
     "metadata": {},
     "output_type": "display_data"
    }
   ],
   "source": [
    "dizi2D.ravel() # tensorflow -> flatten"
   ]
  },
  {
   "cell_type": "code",
   "execution_count": null,
   "metadata": {},
   "outputs": [
    {
     "data": {
      "text/plain": [
       "array([[1, 4, 7],\n",
       "       [2, 5, 8],\n",
       "       [3, 6, 9]])"
      ]
     },
     "metadata": {},
     "output_type": "display_data"
    }
   ],
   "source": [
    "dizi2D.T"
   ]
  },
  {
   "cell_type": "code",
   "execution_count": null,
   "metadata": {},
   "outputs": [
    {
     "data": {
      "text/plain": [
       "(3, 3)"
      ]
     },
     "metadata": {},
     "output_type": "display_data"
    }
   ],
   "source": [
    "dizi2D=np.array([[1,2,3],[4,5,6],[7,8,9]])\n",
    "dizi2D.shape"
   ]
  },
  {
   "cell_type": "code",
   "execution_count": null,
   "metadata": {},
   "outputs": [
    {
     "data": {
      "text/plain": [
       "(3, 3)"
      ]
     },
     "metadata": {},
     "output_type": "display_data"
    }
   ],
   "source": [
    "dizi2D_shape=dizi2D.shape\n",
    "dizi2D_shape"
   ]
  },
  {
   "cell_type": "code",
   "execution_count": null,
   "metadata": {},
   "outputs": [
    {
     "name": "stdout",
     "output_type": "stream",
     "text": [
      "[[1]\n",
      " [2]\n",
      " [3]\n",
      " [4]\n",
      " [5]\n",
      " [6]\n",
      " [7]\n",
      " [8]\n",
      " [9]]\n"
     ]
    }
   ],
   "source": [
    "print(dizi2D.reshape(dizi2D_shape[0]*dizi2D_shape[1],-1))"
   ]
  },
  {
   "cell_type": "code",
   "execution_count": null,
   "metadata": {},
   "outputs": [],
   "source": [
    "\"\"\"\"\n",
    "[[1,2]\n",
    "[3,4]]\n",
    "\n",
    "reshape(4,-1)\n",
    "\n",
    "[1,2,3,4]\n",
    "\"\"\""
   ]
  },
  {
   "cell_type": "code",
   "execution_count": null,
   "metadata": {},
   "outputs": [
    {
     "name": "stdout",
     "output_type": "stream",
     "text": [
      "C:  [[ 0.32742418  1.39065597  2.83093282  3.62819265  4.7901782 ]\n",
      " [ 5.46543483  6.64074862  7.93781858  8.61639906  9.56028326]\n",
      " [10.43240607 11.86031746 12.67615277 13.28471227 14.3735089 ]]\n",
      "D:  [[10.         12.85714286 15.71428571 18.57142857 21.42857143]\n",
      " [24.28571429 27.14285714 30.         32.85714286 35.71428571]\n",
      " [38.57142857 41.42857143 44.28571429 47.14285714 50.        ]]\n",
      "E:  [[ 10  20  30  40  50]\n",
      " [ 60  70  80  90 100]\n",
      " [110 120 130 140 150]]\n",
      "F:  [[ 20.          32.85714286  45.71428571  58.57142857  71.42857143]\n",
      " [ 84.28571429  97.14285714 110.         122.85714286 135.71428571]\n",
      " [148.57142857 161.42857143 174.28571429 187.14285714 200.        ]]\n",
      "G shape:  (15,)\n"
     ]
    }
   ],
   "source": [
    "\"\"\"\n",
    "1) A array = 2 boyutlu bir tane array -> (3,5)\n",
    "2) B array = 1 boyutlu bir tane array -> (15,)\n",
    "3) B array'ini (3,5) olacak sekilde reshape yapalim\n",
    "4) C = A + B\n",
    "5) D=linspace ve E=arange ile (3,5) lik matrisler olusturalim.\n",
    "6) F = D + E\n",
    "7) C'nin ve F'nin her bir elemanini for dongusu ile eleman eleman carpip G = (15,1) boyutunda elde edelim.\n",
    "8) C ve F'yi (15,1) sonrasında C'nin ilk elemani ile F'nin son elemani toplayarak ilerleyelim.\n",
    "9) toplam degerleri eger 1 den buyukse G1 isimli bir listeye atalim, else ise G2 isimli listeye atalim\n",
    "\"\"\"\n",
    "import numpy as np\n",
    "# 2 boyutlu bir dizi oluşturma (3x5)\n",
    "A = np.random.rand(3, 5)  # 0 ile 1 arasında rastgele sayılarla dolu 3x5'lik bir dizi\n",
    "# 1 boyutlu bir dizi oluşturma (15 elemanlı)\n",
    "B = np.arange(15)  # 0'dan 14'e kadar sayıları içeren bir dizi\n",
    "# B dizisini 3x5 boyutunda yeniden şekillendirme\n",
    "B = B.reshape(3, 5)\n",
    "# A ve B dizilerini toplama\n",
    "C = A + B\n",
    "print(\"C: \",C)\n",
    "D=np.linspace(10,50,15).reshape(3,5)\n",
    "print(\"D: \",D)\n",
    "E=np.arange(10,160,10).reshape(3,5)\n",
    "print(\"E: \",E)\n",
    "F=D+E\n",
    "print(\"F: \",F)\n",
    "G = []\n",
    "for i in range(C.shape[0]):  # 3\n",
    "    for j in range(C.shape[1]):  # 5\n",
    "        G.append(C[i, j] * F[i, j])\n",
    "print(\"G shape: \",np.array(G).shape)"
   ]
  },
  {
   "cell_type": "code",
   "execution_count": null,
   "metadata": {},
   "outputs": [
    {
     "name": "stdout",
     "output_type": "stream",
     "text": [
      "[array([20.32742418]), array([34.24779882]), array([48.54521854]), array([62.19962122]), array([76.21874962]), array([89.75114912]), array([103.78360576]), array([117.93781858]), array([131.47354192]), array([145.27456898]), array([159.00383464]), array([173.28888889]), array([186.96186706]), array([200.42756941]), array([214.3735089])] []\n"
     ]
    }
   ],
   "source": [
    "\"\"\"\n",
    "[1,2,3]\n",
    "\n",
    "[4,5,6]\n",
    "7,7,7\n",
    "\"\"\"\n",
    "C = C.reshape(15,1)\n",
    "F = F.reshape(15,1)\n",
    "F =F[::-1]\n",
    "G1 = []\n",
    "G2 = []\n",
    "for i in range(len(C)):\n",
    "    toplam = C[i] + F[i]\n",
    "    if toplam > 1:\n",
    "        G1.append(toplam)\n",
    "    else:\n",
    "        G2.append(toplam)\n",
    "print(G1,G2)"
   ]
  },
  {
   "cell_type": "code",
   "execution_count": null,
   "metadata": {},
   "outputs": [
    {
     "name": "stdout",
     "output_type": "stream",
     "text": [
      "G1 (Toplam > 1 olanlar): [200.3274241810467, 188.53351310915698, 177.11664710813443, 165.05676407668426, 153.36160676686742, 141.17972054778826, 129.4978914723449, 117.93781858145316, 105.75925620685932, 93.84599755056932, 81.86097749537447, 70.43174603218262, 58.39043848529876, 46.14185512387553, 34.37350889945884]\n",
      "G2 (Toplam <= 1 olanlar): []\n"
     ]
    }
   ],
   "source": [
    "C_flat = C.reshape(-1, 1)  # -1 otomatik olarak 15 elemanı kullanır\n",
    "F_flat = F.reshape(-1, 1)\n",
    "\n",
    "# G1 ve G2 listelerini tanımlama\n",
    "G1 = []\n",
    "G2 = []\n",
    "\n",
    "# C'nin ilk elemanı ve F'nin son elemanı toplama işlemi ile ilerleme\n",
    "for i in range(len(C_flat)):  # C_flat'in uzunluğunu kullanarak döngüyü oluştur\n",
    "    toplam = C_flat[i, 0] + F_flat[len(F_flat) - 1 - i, 0]  # len kullanarak sondan eleman al\n",
    "    if toplam > 1:\n",
    "        G1.append(toplam)\n",
    "    else:\n",
    "        G2.append(toplam)\n",
    "# Sonuçları yazdırma\n",
    "print(\"G1 (Toplam > 1 olanlar):\", G1)\n",
    "print(\"G2 (Toplam <= 1 olanlar):\", G2)"
   ]
  },
  {
   "cell_type": "markdown",
   "metadata": {},
   "source": [
    " **Stacking**"
   ]
  },
  {
   "cell_type": "code",
   "execution_count": null,
   "metadata": {},
   "outputs": [],
   "source": [
    "import numpy as np"
   ]
  },
  {
   "cell_type": "code",
   "execution_count": null,
   "metadata": {},
   "outputs": [
    {
     "data": {
      "text/plain": [
       "array([[1, 2],\n",
       "       [3, 4]])"
      ]
     },
     "metadata": {},
     "output_type": "display_data"
    }
   ],
   "source": [
    "dizi1 = np.array([[1,2], [3,4]])\n",
    "dizi1"
   ]
  },
  {
   "cell_type": "code",
   "execution_count": null,
   "metadata": {},
   "outputs": [
    {
     "data": {
      "text/plain": [
       "array([[-1, -2],\n",
       "       [-3, -4]])"
      ]
     },
     "metadata": {},
     "output_type": "display_data"
    }
   ],
   "source": [
    "dizi2 = np.array([[-1,-2], [-3,-4]])\n",
    "dizi2"
   ]
  },
  {
   "cell_type": "code",
   "execution_count": null,
   "metadata": {},
   "outputs": [
    {
     "data": {
      "text/plain": [
       "array([[ 1,  2],\n",
       "       [ 3,  4],\n",
       "       [-1, -2],\n",
       "       [-3, -4]])"
      ]
     },
     "metadata": {},
     "output_type": "display_data"
    }
   ],
   "source": [
    "dizi_dikey = np.vstack((dizi1, dizi2))\n",
    "dizi_dikey"
   ]
  },
  {
   "cell_type": "code",
   "execution_count": null,
   "metadata": {},
   "outputs": [
    {
     "data": {
      "text/plain": [
       "array([[ 1,  2, -1, -2],\n",
       "       [ 3,  4, -3, -4]])"
      ]
     },
     "metadata": {},
     "output_type": "display_data"
    }
   ],
   "source": [
    "dizi_yatay = np.hstack((dizi1, dizi2))\n",
    "dizi_yatay"
   ]
  },
  {
   "cell_type": "code",
   "execution_count": null,
   "metadata": {},
   "outputs": [
    {
     "data": {
      "text/plain": [
       "array([[1, 2, 1, 2, 1, 2],\n",
       "       [3, 4, 3, 4, 3, 4]])"
      ]
     },
     "metadata": {},
     "output_type": "display_data"
    }
   ],
   "source": [
    "# problem tanimi: 2 boyutlu (2 satir ve 2 sutun) 3 adet array olustur,\n",
    "# bunlari yatayda ve dikeyde birlestir\n",
    "np.hstack((dizi1, dizi1, dizi1))"
   ]
  },
  {
   "cell_type": "code",
   "execution_count": null,
   "metadata": {},
   "outputs": [
    {
     "data": {
      "text/plain": [
       "array([[1, 2],\n",
       "       [3, 4],\n",
       "       [1, 2],\n",
       "       [3, 4],\n",
       "       [1, 2],\n",
       "       [3, 4]])"
      ]
     },
     "metadata": {},
     "output_type": "display_data"
    }
   ],
   "source": [
    "np.vstack((dizi1, dizi1, dizi1))"
   ]
  }
 ],
 "metadata": {
  "language_info": {
   "name": "python"
  }
 },
 "nbformat": 4,
 "nbformat_minor": 2
}
